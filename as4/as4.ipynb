{
 "cells": [
  {
   "cell_type": "code",
   "execution_count": 1,
   "metadata": {},
   "outputs": [],
   "source": [
    "# Will Hollingsworth, Colton Murray, Alexander Shiveley"
   ]
  },
  {
   "cell_type": "code",
   "execution_count": 2,
   "metadata": {},
   "outputs": [],
   "source": [
    "import numpy as np\n",
    "import matplotlib.pyplot as plt"
   ]
  },
  {
   "cell_type": "markdown",
   "metadata": {},
   "source": [
    "# Generating Datasets"
   ]
  },
  {
   "cell_type": "code",
   "execution_count": 3,
   "metadata": {},
   "outputs": [],
   "source": [
    "decision_lambda = lambda x1, x2: 1 if (x1 + (3 * x2) - 2) > 0 else -1\n",
    "\n",
    "def gen_data():\n",
    "    \"\"\"\n",
    "    Generates random data points and classifies them.\n",
    "    \"\"\"\n",
    "    data = np.random.randint(low=-40, high=40, size=(100,2))\n",
    "    classification = np.array([[decision_lambda(d[0], d[1])] for d in data])\n",
    "\n",
    "    return np.hstack((data, classification))"
   ]
  },
  {
   "cell_type": "code",
   "execution_count": 4,
   "metadata": {},
   "outputs": [],
   "source": [
    "def get_sets(data, split):\n",
    "    \"\"\"\n",
    "    Convenience function that randomly selects a training and test set from the input data.\n",
    "    \n",
    "    :param data: (ndarray) the data you want to split\n",
    "    :param split: (float) the percentage of the data you want to be TRAINING data\n",
    "    \n",
    "    :returns: (tuple) a tuple where the first element is the training set, and the second element is the test set\n",
    "    \"\"\"\n",
    "    # Randomly shuffle the order from a copy of the data\n",
    "    shuffled = data.copy()\n",
    "    np.random.shuffle(shuffled)\n",
    "\n",
    "    row_count = data.shape[0]\n",
    "\n",
    "    # calc the number of samples, assumes the input samples are seperated by row\n",
    "    training_count = round(row_count * split)\n",
    "    \n",
    "    training_set = shuffled[:training_count]\n",
    "    test_set = shuffled[training_count:]\n",
    "    \n",
    "    return training_set, test_set"
   ]
  },
  {
   "cell_type": "code",
   "execution_count": 5,
   "metadata": {},
   "outputs": [],
   "source": [
    "def split_pos_neg(data):\n",
    "    \"\"\"\n",
    "    Returns two sets of positive, then negative examples (1's then -1's from the output column)\n",
    "    \"\"\"\n",
    "    return data[data[:, -1]==1, :-1], data[data[:, -1]==-1, :-1]"
   ]
  },
  {
   "cell_type": "code",
   "execution_count": 51,
   "metadata": {},
   "outputs": [],
   "source": [
    "# Find a balanced dataset of positive and negative samples\n",
    "def get_balanced_data():\n",
    "    ratio = -1\n",
    "    while ratio == -1 or abs(1 - ratio) > 0.1:\n",
    "        data = gen_data()\n",
    "        pos, neg = split_pos_neg(data)\n",
    "\n",
    "        # Check ratio of positive and negative samples\n",
    "        ratio = len(pos) / len(neg)\n",
    "    \n",
    "    return data"
   ]
  },
  {
   "cell_type": "markdown",
   "metadata": {},
   "source": [
    "# Perceptron (2 Input Linear Unit)"
   ]
  },
  {
   "cell_type": "code",
   "execution_count": 77,
   "metadata": {},
   "outputs": [],
   "source": [
    "class linear_unit():\n",
    "    def __init__(self, num_inputs):\n",
    "        self.weights = np.random.rand(num_inputs + 1)\n",
    "        \n",
    "    def output(self, data_point):\n",
    "        \"\"\"\n",
    "        Returns the linear combination of the input and this unit's weights\n",
    "        \"\"\"\n",
    "        # total = w0*1 + w1x1 + w2x2 + ...\n",
    "        data_with_bias = np.hstack((np.array([1]), data_point[:-1]))\n",
    "        t = data_with_bias * self.weights\n",
    "        t = np.sum(t)\n",
    "        \n",
    "        return t\n",
    "        \n",
    "        \n",
    "    def delta_rule(self, data, learning_rate, epochs):\n",
    "        \"\"\"\n",
    "        Performs the delta rule training for a given number of epochs using gradient descent\n",
    "        \"\"\"\n",
    "        global weight_updates\n",
    "        \n",
    "        # From NN_MitchelChapter4-1.pdf on canvas          \n",
    "        for ep in range(epochs): \n",
    "            delta_w = np.zeros(self.weights.shape[0])\n",
    "            for d in data:\n",
    "                d_with_bias = np.hstack((np.array([1]), d[:-1]))\n",
    "                o = 1 if self.output(d) > 0 else -1\n",
    "                delta_w = delta_w + learning_rate * (d[2] - o) * d_with_bias     \n",
    "            self.weights = self.weights + delta_w\n",
    "            \n",
    "            if np.sum(delta_w) != 0:\n",
    "                weight_updates += 1\n",
    "                \n",
    "        return weight_updates\n",
    "                \n",
    "        \n",
    "    def delta_rule_stochastic(self, data, learning_rate, epochs):\n",
    "        \"\"\"\n",
    "        Performs the delta rule training for a given number of epochs using stochastic gradient descent\n",
    "        \"\"\"\n",
    "        global weight_updates\n",
    "        \n",
    "        # From NN_MitchelChapter4-1.pdf on canvas          \n",
    "        for ep in range(epochs): \n",
    "            for d in data:\n",
    "                d_with_bias = np.hstack((np.array([1]), d[:-1]))\n",
    "                o = 1 if self.output(d) > 0 else -1\n",
    "                temp_weights = self.weights + learning_rate * (d[2] - o) * d_with_bias  \n",
    "                \n",
    "                if (temp_weights != self.weights).any():\n",
    "                    weight_updates += 1\n",
    "                    \n",
    "                self.weights = temp_weights\n",
    "                \n",
    "        return weight_updates\n",
    "            \n",
    "        \n",
    "    def error(self, data):\n",
    "        \"\"\"\n",
    "        Returns the sum squared error of the data using this unit's weights\n",
    "        \"\"\"\n",
    "        sum = 0\n",
    "        for d in data:\n",
    "            o = 1 if self.output(d) > 0 else -1\n",
    "            sum = sum + (d[2] - o)**2\n",
    "        return sum"
   ]
  },
  {
   "cell_type": "code",
   "execution_count": 42,
   "metadata": {},
   "outputs": [],
   "source": [
    "p = linear_unit(2)"
   ]
  },
  {
   "cell_type": "code",
   "execution_count": 43,
   "metadata": {},
   "outputs": [
    {
     "name": "stdout",
     "output_type": "stream",
     "text": [
      "[-12 -38  -1]\n",
      "[0.2713056  0.77164398 0.37700503]\n",
      "-23.314613230651066\n",
      "[  1.2713056   72.17164398 208.37700503]\n",
      "-8783.114613230651\n"
     ]
    }
   ],
   "source": [
    "data = get_balanced_data()\n",
    "print(data[0])\n",
    "print(p.weights)\n",
    "print(p.output(data[0]))\n",
    "\n",
    "# Train perceptron using gradient descent\n",
    "p.delta_rule(data, 0.1, 50)\n",
    "print(p.weights)\n",
    "print(p.output(data[0]))"
   ]
  },
  {
   "cell_type": "code",
   "execution_count": 46,
   "metadata": {},
   "outputs": [
    {
     "name": "stdout",
     "output_type": "stream",
     "text": [
      "[-12 -38  -1]\n",
      "[0.39960988 0.71876086 0.81726604]\n",
      "-39.28163001493658\n",
      "[-2.20039012  9.51876086 23.21726604]\n",
      "-998.6816300149362\n"
     ]
    }
   ],
   "source": [
    "p2 = linear_unit(2)\n",
    "data2 = get_balanced_data()\n",
    "\n",
    "print(data[0])\n",
    "print(p2.weights)\n",
    "print(p2.output(data[0]))\n",
    "\n",
    "# Train perceptron using stochastic gradient descent\n",
    "p2.delta_rule_stochastic(data2, 0.1, 50)\n",
    "print(p2.weights)\n",
    "print(p2.output(data[0]))"
   ]
  },
  {
   "cell_type": "code",
   "execution_count": 47,
   "metadata": {},
   "outputs": [],
   "source": [
    "# Alex - Weights make sense now where 1st is negative and others are positive. (actual is [-2, 1, 3])"
   ]
  },
  {
   "cell_type": "code",
   "execution_count": 48,
   "metadata": {},
   "outputs": [
    {
     "name": "stdout",
     "output_type": "stream",
     "text": [
      "0\n",
      "0\n"
     ]
    }
   ],
   "source": [
    "print(p.error(data))\n",
    "print(p2.error(data2))"
   ]
  },
  {
   "cell_type": "code",
   "execution_count": 33,
   "metadata": {},
   "outputs": [],
   "source": [
    "def plot_error_over_epochs(epochs):   \n",
    "    \"\"\"\n",
    "    Plot the training error for up to some number of epochs\n",
    "    \"\"\" \n",
    "    unit = linear_unit(2)\n",
    "    \n",
    "    x = np.arange(epochs)\n",
    "    y = []\n",
    "    data = get_balanced_data()\n",
    "    for i in range(epochs):\n",
    "        unit.delta_rule(data, 0.1, 1)\n",
    "        y.append(unit.error(data))\n",
    "        \n",
    "    plt.plot(x, y, '--r')\n",
    "    plt.xlabel('# of Epochs')\n",
    "    plt.ylabel('Error')\n",
    "    plt.title('Error vs Training Epochs')\n",
    "    plt.show()\n",
    "\n",
    "def plot_decision_surface():\n",
    "    \"\"\"\n",
    "    Plot the decision surface for 5, 10, 50, and 100 epochs\n",
    "    \"\"\" \n",
    "    fig, axs = plt.subplots(2, 2, sharex=True, sharey=True)\n",
    "    \n",
    "    counter = 0\n",
    "    for row in axs:\n",
    "        for ax in row:\n",
    "            # Get data\n",
    "            data = get_balanced_data()\n",
    "            pos, neg = split_pos_neg(data)\n",
    "            \n",
    "            # Set axis limits\n",
    "            ax.set_xlim(-40, 40)\n",
    "            ax.set_ylim(-40, 40)\n",
    "            \n",
    "            # Train linear unit\n",
    "            unit = linear_unit(2)\n",
    "            if counter == 0:\n",
    "                unit.delta_rule(data, .1, 5)\n",
    "                ax.set_title('5 Epochs')\n",
    "            elif counter == 1:\n",
    "                unit.delta_rule(data, .1, 10)\n",
    "                ax.set_title('10 Epochs')\n",
    "            elif counter == 2:\n",
    "                unit.delta_rule(data, .1, 50)\n",
    "                ax.set_title('50 Epochs')\n",
    "            else:\n",
    "                unit.delta_rule(data, .1, 100)\n",
    "                ax.set_title('100 Epochs')\n",
    "            \n",
    "            # Plot decision boundary\n",
    "            x = np.arange(-40, 40)\n",
    "            yf = lambda x: ((unit.weights[1] / unit.weights[2]) * -x) - unit.weights[0]\n",
    "            y = [yf(d) for d in x]\n",
    "            ax.plot(x, y, color='orange')\n",
    "            ax.fill_between(x, y, 40, color='lightcoral')\n",
    "            ax.fill_between(x, y, -40, color='lightblue')\n",
    "            \n",
    "            # Overlay training data\n",
    "            ax.scatter(pos[:, 0], pos[:, 1], color='red')\n",
    "            ax.scatter(neg[:, 0], neg[:, 1], color='blue')\n",
    "            \n",
    "            counter += 1\n",
    "    \n",
    "    plt.show()\n",
    "    \n",
    "def plot_error_training_rates():\n",
    "    \n",
    "    fig, axs = plt.subplots(2, 2, sharex=True, sharey=True)\n",
    "    x = np.arange(50)\n",
    "    \n",
    "    counter = 0\n",
    "    for row in axs:\n",
    "        for ax in row:\n",
    "    \n",
    "            if counter == 0:\n",
    "                lr = 0.1\n",
    "                ax.set_title('Learning Rate = 0.1')\n",
    "            elif counter == 1:\n",
    "                lr = 0.01\n",
    "                ax.set_title('Learning Rate = 0.01')\n",
    "            elif counter == 2:\n",
    "                lr = 0.001\n",
    "                ax.set_title('Learning Rate = 0.001')\n",
    "            elif counter == 3:\n",
    "                lr = 0.0001\n",
    "                ax.set_title('Learning Rate = 0.0001')\n",
    "    \n",
    "            unit = linear_unit(2)\n",
    "            y = []\n",
    "            data = get_balanced_data()\n",
    "            for i in range(50):\n",
    "                unit.delta_rule(data, lr, 1)\n",
    "                y.append(unit.error(data))\n",
    "        \n",
    "            ax.plot(x, y, '--r')\n",
    "            counter += 1\n",
    "    \n",
    "    #plt.xlabel('# of Epochs')\n",
    "    #plt.ylabel('Error')\n",
    "    plt.show()"
   ]
  },
  {
   "cell_type": "code",
   "execution_count": 14,
   "metadata": {},
   "outputs": [
    {
     "data": {
      "image/png": "[encoded data removed]",
      "text/plain": [
       "<Figure size 432x288 with 1 Axes>"
      ]
     },
     "metadata": {
      "needs_background": "light"
     },
     "output_type": "display_data"
    }
   ],
   "source": [
    "plot_error_over_epochs(25)"
   ]
  },
  {
   "cell_type": "code",
   "execution_count": 16,
   "metadata": {},
   "outputs": [
    {
     "data": {
      "image/png": "[encoded data removed]",
      "text/plain": [
       "<Figure size 432x288 with 4 Axes>"
      ]
     },
     "metadata": {
      "needs_background": "light"
     },
     "output_type": "display_data"
    }
   ],
   "source": [
    "plot_decision_surface()"
   ]
  },
  {
   "cell_type": "code",
   "execution_count": null,
   "metadata": {},
   "outputs": [],
   "source": [
    "# Will -Not sure if we can scale these up or something. Also sometimes the 100 epochs one just freaks out and has crazy high error."
   ]
  },
  {
   "cell_type": "code",
   "execution_count": 39,
   "metadata": {},
   "outputs": [
    {
     "data": {
      "image/png": "[encoded data removed]",
      "text/plain": [
       "<Figure size 432x288 with 4 Axes>"
      ]
     },
     "metadata": {
      "needs_background": "light"
     },
     "output_type": "display_data"
    }
   ],
   "source": [
    "plot_error_training_rates()"
   ]
  },
  {
   "cell_type": "code",
   "execution_count": 40,
   "metadata": {},
   "outputs": [],
   "source": [
    "# TODO: analysis for learning rate\n",
    "# Looks like 0.001 is good?"
   ]
  },
  {
   "cell_type": "code",
   "execution_count": 83,
   "metadata": {},
   "outputs": [
    {
     "name": "stdout",
     "output_type": "stream",
     "text": [
      "Epochs: 50\n",
      "Learning Rate: 0.001\n",
      "\n",
      "Batch Training:\n",
      "\tExecution Time: 0.08987780000006751\n",
      "\tNum of Weight Updates: 15\n",
      "\n",
      "Stochastic Training:\n",
      "\tExecution Time: 0.11927930000001652\n",
      "\tNum of Weight Updates: 32\n",
      "\n"
     ]
    }
   ],
   "source": [
    "import timeit\n",
    "\n",
    "data = get_balanced_data()\n",
    "weight_updates = 0\n",
    "\n",
    "# Train perceptron using batch gradient descent\n",
    "p = linear_unit(2)\n",
    "time = timeit.timeit(lambda: p.delta_rule(data, 0.001, 50), number=1)\n",
    "\n",
    "print('Epochs: 50')\n",
    "print('Learning Rate: 0.001\\n')\n",
    "\n",
    "print('Batch Training:')\n",
    "print(f'\\tExecution Time: {time}')\n",
    "print(f'\\tNum of Weight Updates: {weight_updates}\\n')\n",
    "\n",
    "weight_updates = 0\n",
    "\n",
    "# Train perceptron using stochastic gradient descent\n",
    "p = linear_unit(2)\n",
    "time = timeit.timeit(lambda: p.delta_rule_stochastic(data, 0.001, 50), number=1)\n",
    "\n",
    "print('Stochastic Training:')\n",
    "print(f'\\tExecution Time: {time}')\n",
    "print(f'\\tNum of Weight Updates: {weight_updates}\\n')"
   ]
  },
  {
   "cell_type": "code",
   "execution_count": null,
   "metadata": {},
   "outputs": [],
   "source": []
  }
 ],
 "metadata": {
  "kernelspec": {
   "display_name": "Python 3",
   "language": "python",
   "name": "python3"
  },
  "language_info": {
   "codemirror_mode": {
    "name": "ipython",
    "version": 3
   },
   "file_extension": ".py",
   "mimetype": "text/x-python",
   "name": "python",
   "nbconvert_exporter": "python",
   "pygments_lexer": "ipython3",
   "version": "3.7.4"
  }
 },
 "nbformat": 4,
 "nbformat_minor": 2
}
