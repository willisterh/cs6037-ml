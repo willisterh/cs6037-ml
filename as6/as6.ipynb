{
 "cells": [
  {
   "cell_type": "code",
   "execution_count": 1,
   "metadata": {},
   "outputs": [],
   "source": [
    "# Will Hollingsworth, Colton Murray, Alexander Shiveley"
   ]
  },
  {
   "cell_type": "code",
   "execution_count": 2,
   "metadata": {},
   "outputs": [],
   "source": [
    "import numpy as np\n",
    "import matplotlib.pyplot as plt\n",
    "import sympy as sp"
   ]
  },
  {
   "cell_type": "markdown",
   "metadata": {},
   "source": [
    "# Q1"
   ]
  },
  {
   "cell_type": "markdown",
   "metadata": {},
   "source": [
    "By using the same method in the notes to expand the kernel function for some n and d, m can be found.  After expanding, and simplifying, m = number of terms in the polynomial.\n",
    "\n",
    "c is set to 1.\n",
    "\n",
    "To avoid tedious calculations, the expansions were done using sympy."
   ]
  },
  {
   "cell_type": "code",
   "execution_count": 3,
   "metadata": {},
   "outputs": [
    {
     "name": "stdout",
     "output_type": "stream",
     "text": [
      "n: 1   d: 1   m: 2\n",
      "n: 1   d: 2   m: 3\n",
      "n: 1   d: 3   m: 4\n",
      "n: 1   d: 4   m: 5\n",
      "n: 1   d: 5   m: 6\n",
      "n: 2   d: 1   m: 3\n",
      "n: 2   d: 2   m: 6\n",
      "n: 2   d: 3   m: 10\n",
      "n: 2   d: 4   m: 15\n",
      "n: 2   d: 5   m: 21\n",
      "n: 3   d: 1   m: 4\n",
      "n: 3   d: 2   m: 10\n",
      "n: 3   d: 3   m: 20\n",
      "n: 3   d: 4   m: 35\n",
      "n: 3   d: 5   m: 56\n",
      "n: 4   d: 1   m: 5\n",
      "n: 4   d: 2   m: 15\n",
      "n: 4   d: 3   m: 35\n",
      "n: 4   d: 4   m: 70\n",
      "n: 4   d: 5   m: 126\n"
     ]
    }
   ],
   "source": [
    "def get_m(n, d):\n",
    "    \"\"\"\n",
    "    Expands and counts the terms in the polynomial kernel function for some n and d, where c = 1\n",
    "    \"\"\"\n",
    "    # Supports n up to 4\n",
    "    if n == 1:\n",
    "        x1, z1 = sp.symbols('x1 z1')\n",
    "        result = sp.expand((x1*z1+1)**d)\n",
    "    elif n == 2:\n",
    "        x1, z1, x2, z2 = sp.symbols('x1 z1 x2 z2')\n",
    "        result = sp.expand((x1*z1+x2*z2+1)**d)\n",
    "    elif n == 3:\n",
    "        x1, z1, x2, z2, x3, z3 = sp.symbols('x1 z1 x2 z2 x3 z3')\n",
    "        result = sp.expand((x1*z1+x2*z2+x3*z3+1)**d)\n",
    "    elif n == 4:\n",
    "        x1, z1, x2, z2, x3, z3, x4, z4 = sp.symbols('x1 z1 x2 z2 x3 z3 x4 z4')\n",
    "        result = sp.expand((x1*z1+x2*z2+x3*z3+x4*z4+1)**d)    \n",
    "    return str(result).count('+') + 1\n",
    "\n",
    "# Find m for n = [1, 4], d = [1, 5]\n",
    "for n in range(1, 5):\n",
    "    for d in range(1, 6):\n",
    "        print('n:', n, '  d:', d, '  m:', get_m(n, d))    "
   ]
  },
  {
   "cell_type": "markdown",
   "metadata": {},
   "source": [
    "The most noticable pattern is that for some $n_1$, $d_1$, $n_2$, $d_2$ where $n_2 = d_1$ and $d_2 = n_1$, $m_1 = m_2$.\n",
    "For example for $n = 2$, $d = 3$ and $n = 3$, $d = 2$, results in $m = 10$ for both cases.\n",
    "\n",
    "This suggests there is some term in the relation like $n + d$ or $n * d$ involved for symmetry.\n",
    "\n",
    "Another pattern is that for larger $n$ and $d$, $m$ grows large quickly. This suggests operations like exponents or factorials may be involved.\n",
    "\n",
    "Using the above patterns, the final equation below was found to relate $n$, $d$, and $m$:\n",
    "\n",
    "$$m = \\frac{(n + d)!}{n! d!}$$"
   ]
  },
  {
   "cell_type": "markdown",
   "metadata": {},
   "source": [
    "# Q2"
   ]
  },
  {
   "cell_type": "markdown",
   "metadata": {},
   "source": [
    "# Getting the data into Python"
   ]
  },
  {
   "cell_type": "code",
   "execution_count": 4,
   "metadata": {},
   "outputs": [
    {
     "data": {
      "text/plain": [
       "array([[243.,   3.,  -1.],\n",
       "       [116., 165.,   1.],\n",
       "       [198., 127.,  -1.],\n",
       "       [184., 234.,   1.],\n",
       "       [165., 231.,   1.],\n",
       "       [160.,  46.,  -1.],\n",
       "       [ 70., 169.,   1.],\n",
       "       [300.,  94.,  -1.],\n",
       "       [ 95.,  62.,  -1.],\n",
       "       [ 61., 186.,   1.],\n",
       "       [ 79., 140.,   1.],\n",
       "       [245., 185.,  -1.],\n",
       "       [264.,   2.,  -1.],\n",
       "       [192., 146.,  -1.],\n",
       "       [274., 104.,  -1.],\n",
       "       [170.,  37.,  -1.],\n",
       "       [172., 144.,  -1.],\n",
       "       [222., 131.,  -1.],\n",
       "       [ 35., 204.,   1.],\n",
       "       [105., 199.,   1.],\n",
       "       [146.,  40.,  -1.],\n",
       "       [ 35.,  68.,   1.],\n",
       "       [221.,  41.,  -1.],\n",
       "       [ 39.,  16.,  -1.],\n",
       "       [ 18.,  77.,   1.],\n",
       "       [ 32., 134.,   1.],\n",
       "       [ 21.,  61.,   1.],\n",
       "       [109., 266.,   1.],\n",
       "       [134., 172.,   1.],\n",
       "       [100., 183.,   1.],\n",
       "       [ 45., 158.,   1.],\n",
       "       [263., 193.,  -1.],\n",
       "       [173.,  88.,  -1.],\n",
       "       [299.,  98.,  -1.],\n",
       "       [ 81., 240.,   1.],\n",
       "       [ 69., 235.,   1.],\n",
       "       [152., 189.,   1.],\n",
       "       [176.,   4.,  -1.],\n",
       "       [252.,  37.,  -1.],\n",
       "       [120., 228.,   1.],\n",
       "       [241., 133.,  -1.],\n",
       "       [ 86., 214.,   1.],\n",
       "       [ 43., 288.,   1.],\n",
       "       [221.,  77.,  -1.],\n",
       "       [210., 117.,  -1.],\n",
       "       [181.,  75.,  -1.],\n",
       "       [ 11.,  71.,   1.],\n",
       "       [280., 157.,  -1.],\n",
       "       [293., 115.,  -1.],\n",
       "       [154.,  85.,  -1.],\n",
       "       [ 44., 160.,   1.],\n",
       "       [ 49., 192.,   1.],\n",
       "       [ 35.,  61.,   1.],\n",
       "       [161.,  32.,  -1.],\n",
       "       [247., 107.,  -1.],\n",
       "       [254., 201.,  -1.],\n",
       "       [ 91., 142.,   1.],\n",
       "       [261.,  57.,  -1.],\n",
       "       [152.,   9.,  -1.],\n",
       "       [ 41., 116.,   1.],\n",
       "       [279., 166.,  -1.],\n",
       "       [  3., 283.,   1.],\n",
       "       [ 61., 168.,   1.],\n",
       "       [ 53.,  31.,  -1.],\n",
       "       [293.,  67.,  -1.],\n",
       "       [185., 229.,   1.],\n",
       "       [146.,  17.,  -1.],\n",
       "       [165., 195.,   1.],\n",
       "       [210.,  51.,  -1.],\n",
       "       [ 39., 155.,   1.],\n",
       "       [108.,  85.,  -1.],\n",
       "       [ 86., 195.,   1.],\n",
       "       [266., 117.,  -1.],\n",
       "       [ 49., 124.,   1.],\n",
       "       [124.,  20.,  -1.],\n",
       "       [211., 114.,  -1.],\n",
       "       [118., 159.,   1.],\n",
       "       [250., 137.,  -1.],\n",
       "       [258., 178.,  -1.],\n",
       "       [210., 291.,   1.],\n",
       "       [ 95.,  29.,  -1.],\n",
       "       [255.,  18.,  -1.],\n",
       "       [ 75., 209.,   1.],\n",
       "       [282., 254.,  -1.],\n",
       "       [  6., 180.,   1.],\n",
       "       [ 42., 237.,   1.],\n",
       "       [ 50., 109.,   1.],\n",
       "       [  1., 270.,   1.],\n",
       "       [151.,  39.,  -1.],\n",
       "       [263., 173.,  -1.],\n",
       "       [ 86., 217.,   1.],\n",
       "       [ 82., 216.,   1.],\n",
       "       [143., 214.,   1.],\n",
       "       [ 30., 237.,   1.],\n",
       "       [205., 148.,  -1.],\n",
       "       [265., 111.,  -1.],\n",
       "       [277., 236.,  -1.],\n",
       "       [290.,  27.,  -1.],\n",
       "       [260., 126.,  -1.],\n",
       "       [270., 300.,   1.],\n",
       "       [147., 175.,   1.],\n",
       "       [ 70., 229.,   1.],\n",
       "       [ 56., 166.,   1.],\n",
       "       [101., 273.,   1.],\n",
       "       [157., 273.,   1.],\n",
       "       [237., 136.,  -1.],\n",
       "       [181.,  15.,  -1.],\n",
       "       [ 20., 225.,   1.],\n",
       "       [204., 158.,  -1.],\n",
       "       [ 16.,  69.,   1.],\n",
       "       [ 78., 240.,   1.],\n",
       "       [297.,  98.,  -1.],\n",
       "       [ 75., 300.,   1.],\n",
       "       [123., 262.,   1.],\n",
       "       [ 54.,  99.,   1.],\n",
       "       [260.,  76.,  -1.],\n",
       "       [104., 279.,   1.],\n",
       "       [ 89., 132.,   1.],\n",
       "       [ 67., 155.,   1.],\n",
       "       [275.,  32.,  -1.],\n",
       "       [108., 210.,   1.],\n",
       "       [148., 182.,   1.],\n",
       "       [ 68., 158.,   1.],\n",
       "       [243., 297.,   1.],\n",
       "       [167., 239.,   1.],\n",
       "       [ 78., 194.,   1.],\n",
       "       [ 69., 266.,   1.],\n",
       "       [186., 128.,  -1.],\n",
       "       [ 27., 291.,   1.],\n",
       "       [ 95., 198.,   1.],\n",
       "       [ 83., 180.,   1.],\n",
       "       [142.,  94.,  -1.],\n",
       "       [235., 296.,   1.],\n",
       "       [281., 220.,  -1.],\n",
       "       [275., 241.,  -1.],\n",
       "       [295.,  45.,  -1.],\n",
       "       [ 79.,  50.,  -1.],\n",
       "       [235., 211.,  -1.],\n",
       "       [293.,   2.,  -1.],\n",
       "       [199.,  46.,  -1.],\n",
       "       [ 28., 286.,   1.],\n",
       "       [235., 298.,   1.],\n",
       "       [162., 109.,  -1.],\n",
       "       [223.,  99.,  -1.],\n",
       "       [297., 186.,  -1.],\n",
       "       [ 55., 153.,   1.],\n",
       "       [ 33., 171.,   1.],\n",
       "       [165., 273.,   1.],\n",
       "       [ 62., 199.,   1.],\n",
       "       [176., 236.,   1.],\n",
       "       [262.,  82.,  -1.],\n",
       "       [194.,  55.,  -1.],\n",
       "       [161., 252.,   1.],\n",
       "       [ 67.,  15.,  -1.],\n",
       "       [ 91.,  40.,  -1.],\n",
       "       [111.,  90.,  -1.],\n",
       "       [249., 170.,  -1.],\n",
       "       [248., 134.,  -1.],\n",
       "       [173., 278.,   1.],\n",
       "       [  3., 300.,   1.],\n",
       "       [130., 181.,   1.],\n",
       "       [195., 244.,   1.],\n",
       "       [ 16., 245.,   1.],\n",
       "       [215.,  19.,  -1.],\n",
       "       [173.,  62.,  -1.],\n",
       "       [ 30., 105.,   1.],\n",
       "       [170.,  64.,  -1.],\n",
       "       [137.,  99.,  -1.],\n",
       "       [218.,  83.,  -1.],\n",
       "       [104., 220.,   1.],\n",
       "       [ 90., 213.,   1.],\n",
       "       [ 12.,  87.,   1.],\n",
       "       [163.,   2.,  -1.],\n",
       "       [ 66.,  93.,   1.],\n",
       "       [292., 103.,  -1.],\n",
       "       [ 15., 134.,   1.],\n",
       "       [155.,  60.,  -1.],\n",
       "       [  2., 111.,   1.],\n",
       "       [ 47.,  96.,   1.],\n",
       "       [113., 288.,   1.],\n",
       "       [148., 255.,   1.],\n",
       "       [270., 177.,  -1.],\n",
       "       [ 76.,  33.,  -1.],\n",
       "       [179.,  59.,  -1.],\n",
       "       [246., 149.,  -1.],\n",
       "       [161., 279.,   1.],\n",
       "       [174.,  97.,  -1.],\n",
       "       [204.,  89.,  -1.],\n",
       "       [290., 181.,  -1.],\n",
       "       [ 17.,  79.,   1.],\n",
       "       [277.,  93.,  -1.],\n",
       "       [177., 270.,   1.],\n",
       "       [ 59., 276.,   1.],\n",
       "       [184., 156.,  -1.],\n",
       "       [191., 149.,  -1.],\n",
       "       [ 81., 265.,   1.],\n",
       "       [137., 185.,   1.],\n",
       "       [231.,  44.,  -1.],\n",
       "       [244.,  34.,  -1.],\n",
       "       [130., 290.,   1.],\n",
       "       [286., 148.,  -1.],\n",
       "       [137., 190.,   1.],\n",
       "       [ 26., 119.,   1.],\n",
       "       [187., 238.,   1.],\n",
       "       [247., 207.,  -1.],\n",
       "       [108., 281.,   1.],\n",
       "       [144.,  97.,  -1.],\n",
       "       [169., 294.,   1.],\n",
       "       [ 55., 155.,   1.],\n",
       "       [233., 154.,  -1.],\n",
       "       [171.,  36.,  -1.],\n",
       "       [299., 193.,  -1.],\n",
       "       [298., 100.,  -1.],\n",
       "       [ 35., 294.,   1.],\n",
       "       [128., 285.,   1.],\n",
       "       [ 64.,   8.,  -1.],\n",
       "       [268., 110.,  -1.],\n",
       "       [162.,  19.,  -1.],\n",
       "       [ 76., 280.,   1.],\n",
       "       [268., 101.,  -1.],\n",
       "       [ 78., 100.,   1.],\n",
       "       [255., 145.,  -1.],\n",
       "       [ 70., 210.,   1.],\n",
       "       [217., 105.,  -1.],\n",
       "       [ 47.,  75.,   1.],\n",
       "       [ 22., 257.,   1.],\n",
       "       [174., 265.,   1.],\n",
       "       [104., 261.,   1.],\n",
       "       [281.,  53.,  -1.],\n",
       "       [ 13.,  67.,   1.],\n",
       "       [267., 132.,  -1.],\n",
       "       [100.,  14.,  -1.],\n",
       "       [296., 188.,  -1.],\n",
       "       [ 76.,  28.,  -1.],\n",
       "       [ 11., 173.,   1.],\n",
       "       [261., 198.,  -1.],\n",
       "       [182., 156.,  -1.],\n",
       "       [145.,  21.,  -1.],\n",
       "       [119., 263.,   1.],\n",
       "       [289.,  99.,  -1.],\n",
       "       [ 10., 286.,   1.],\n",
       "       [114., 273.,   1.],\n",
       "       [211., 288.,   1.],\n",
       "       [161.,  63.,  -1.],\n",
       "       [108., 151.,   1.],\n",
       "       [214., 161.,  -1.],\n",
       "       [192.,  13.,  -1.],\n",
       "       [ 38., 230.,   1.],\n",
       "       [233., 141.,  -1.],\n",
       "       [162., 204.,   1.],\n",
       "       [ 36., 159.,   1.],\n",
       "       [184., 287.,   1.],\n",
       "       [147., 122.,  -1.],\n",
       "       [114., 242.,   1.],\n",
       "       [  4., 300.,   1.],\n",
       "       [258., 188.,  -1.],\n",
       "       [268.,  76.,  -1.],\n",
       "       [227., 262.,   1.],\n",
       "       [240.,  17.,  -1.],\n",
       "       [ 83., 279.,   1.],\n",
       "       [282., 136.,  -1.],\n",
       "       [299., 235.,  -1.],\n",
       "       [286.,  79.,  -1.],\n",
       "       [150., 297.,   1.],\n",
       "       [  6., 126.,   1.],\n",
       "       [112., 281.,   1.]])"
      ]
     },
     "execution_count": 4,
     "metadata": {},
     "output_type": "execute_result"
    }
   ],
   "source": [
    "# Load the txt as a numpy array of strings, \n",
    "# because it includes the column headers\n",
    "raw_data = np.loadtxt('as6_data.txt', delimiter=' ', dtype=str)\n",
    "\n",
    "# Convert everything into floats!\n",
    "clean_data = np.array(raw_data, dtype=float)\n",
    "\n",
    "clean_data"
   ]
  },
  {
   "cell_type": "code",
   "execution_count": 5,
   "metadata": {},
   "outputs": [
    {
     "data": {
      "image/png": "[encoded data removed]",
      "text/plain": [
       "<Figure size 432x432 with 1 Axes>"
      ]
     },
     "metadata": {
      "needs_background": "light"
     },
     "output_type": "display_data"
    }
   ],
   "source": [
    "def split_pos_neg(data):\n",
    "    \"\"\"\n",
    "    Returns two sets of positive, then negative examples (1's then -1's from the output column)\n",
    "    \"\"\"\n",
    "    return data[data[:, -1]==1, :-1], data[data[:, -1]==-1, :-1]\n",
    "\n",
    "pos, neg = split_pos_neg(clean_data)\n",
    "\n",
    "x1_pos = pos[:, 0].flatten()\n",
    "x2_pos = pos[:, 1].flatten()\n",
    "x1_neg = neg[:, 0].flatten()\n",
    "x2_neg = neg[:, 1].flatten()\n",
    "\n",
    "plt.figure(figsize=(6,6))\n",
    "plt.plot(x1_pos,x2_pos,'bo', markersize=3)\n",
    "plt.plot(x1_neg,x2_neg,'rx', markersize=3)\n",
    "plt.suptitle('Data Plot')\n",
    "plt.legend(['Class = 1', 'Class = -1'],bbox_to_anchor=(1.04,0.5), loc=\"center left\")\n",
    "plt.show()"
   ]
  },
  {
   "cell_type": "code",
   "execution_count": 6,
   "metadata": {},
   "outputs": [],
   "source": [
    "def get_sets(data, split):\n",
    "    \"\"\"\n",
    "    Convenience function that randomly selects a training and test set from the input data.\n",
    "    \n",
    "    :param data: (ndarray) the data you want to split\n",
    "    :param split: (float array) the percentages of the data you want to be TRAINING, VALIDATION, and TESTING data\n",
    "    \n",
    "    :returns: (tuple) a tuple where the first element is the training set, and the second element is the test set\n",
    "    \"\"\"\n",
    "    # Randomly shuffle the order from a copy of the data\n",
    "    shuffled = data.copy()\n",
    "    np.random.shuffle(shuffled)\n",
    "\n",
    "    row_count = data.shape[0]\n",
    "\n",
    "    # calc the number of samples, assumes the input samples are seperated by row\n",
    "    training_count = round(row_count * split)\n",
    "    \n",
    "    training_set = shuffled[:training_count]\n",
    "    test_set = shuffled[training_count:]\n",
    "    \n",
    "    return training_set, test_set"
   ]
  },
  {
   "cell_type": "code",
   "execution_count": 7,
   "metadata": {},
   "outputs": [],
   "source": [
    "training, test = get_sets(clean_data, .5)"
   ]
  },
  {
   "cell_type": "markdown",
   "metadata": {},
   "source": [
    "# Initializing alpha"
   ]
  },
  {
   "cell_type": "code",
   "execution_count": 8,
   "metadata": {},
   "outputs": [],
   "source": [
    "import random\n",
    "\n",
    "def init_lagrange_multipliers(data):\n",
    "    # Find positions where the labels are -1, and 1 respectively\n",
    "    neg = np.where(data[:, 2] == -1)[0]\n",
    "    pos = np.where(data[:, 2] == 1)[0]\n",
    "    \n",
    "    y = data[:, 2]\n",
    "    alpha = np.array([random.randint(0, 100) for _ in y], dtype=float)\n",
    "    \n",
    "    # Calculate the sum of the product of the labels and alpha values\n",
    "    t = sum(y * np.transpose(alpha))\n",
    "    \n",
    "    # If the sum is positive, \n",
    "    # then increment a random alpha value corresponding to a negative label\n",
    "    while t > 0:\n",
    "        i = np.random.choice(neg)\n",
    "        alpha[i] += 1\n",
    "        t = sum(y * np.transpose(alpha))\n",
    "        \n",
    "    # If the sum is negative, \n",
    "    # then increment a random alpha value corresponding to a positive label\n",
    "    while t < 0:\n",
    "        i = np.random.choice(pos)\n",
    "        alpha[i] += 1\n",
    "        t = sum(y * np.transpose(alpha))\n",
    "        \n",
    "    return alpha"
   ]
  },
  {
   "cell_type": "code",
   "execution_count": 9,
   "metadata": {},
   "outputs": [
    {
     "name": "stdout",
     "output_type": "stream",
     "text": [
      "[ 79.  36.  51.  97.  93.  57. 105.  52.  84.  23.  88.  48.  61. 104.\n",
      "  98.  13.  13.  87.  76.   1.  29.  42.  76. 104.  70.  40. 113.  24.\n",
      "  27.  36.  99.  51.   3.   9.  37.  45.  68.   2.  15.  46.  48.  88.\n",
      "  80.  85.  31. 103.  52.  74.  48.  75.  67.  42.  97.  28.  88.  39.\n",
      "  28.  27.  47.  26. 106.  75.  60.  51.  79.  72.  15.  13.  89.  26.\n",
      "  63.  18.  94.  40.  70. 104.  58.  18.  34.  16.  98.  88.  11.  79.\n",
      "  28. 100.  46.  90. 110.  60.  25.  84.  48.  96. 111.  71.  28.  57.\n",
      "  67.  91. 103.  95.  42.  51.  56.  53.  78.  66.  31.  36.  97.  27.\n",
      "  56.  30.  93.  28.  62. 100.  62.  62.  87.  72.  63.  31.  65.  80.\n",
      "  59.  85.  96.  91.  27. 116.  30.]\n"
     ]
    }
   ],
   "source": [
    "alpha = init_lagrange_multipliers(training)\n",
    "print(alpha)\n",
    "\n",
    "# Initialize b to 0\n",
    "b = 0"
   ]
  },
  {
   "cell_type": "code",
   "execution_count": 10,
   "metadata": {},
   "outputs": [
    {
     "data": {
      "text/plain": [
       "0.0"
      ]
     },
     "execution_count": 10,
     "metadata": {},
     "output_type": "execute_result"
    }
   ],
   "source": [
    "sum(training[:, 2] * np.transpose(alpha))"
   ]
  },
  {
   "cell_type": "markdown",
   "metadata": {},
   "source": [
    "# SMO Algorithm"
   ]
  },
  {
   "cell_type": "code",
   "execution_count": 11,
   "metadata": {},
   "outputs": [
    {
     "data": {
      "text/plain": [
       "array([-473013.,  437310.])"
      ]
     },
     "execution_count": 11,
     "metadata": {},
     "output_type": "execute_result"
    }
   ],
   "source": [
    "# Lets make a helper function to split up our X and Y matrices\n",
    "def split_input_output(data):\n",
    "    \"\"\"\n",
    "    Splits the input array into two seperate sets:\n",
    "        * the feature values\n",
    "        * the output value\n",
    "        \n",
    "    :returns: (tuple) the features are the first element, the outputs are the second\n",
    "    \"\"\"\n",
    "    return np.delete(data, [data.shape[1] - 1], axis=1), data[:, -1]\n",
    "\n",
    "def get_weights():\n",
    "    # Always use x_train, y_train?\n",
    "    vec = np.zeros(x_train.shape[1])\n",
    "    for i in range(y_train.shape[0]):\n",
    "        vec += alpha[i] * y_train[i] * x_train[i]\n",
    "    return vec\n",
    "\n",
    "x_train, y_train = split_input_output(training)\n",
    "x_test, y_test = split_input_output(test)\n",
    "\n",
    "weights = get_weights()\n",
    "\n",
    "weights"
   ]
  },
  {
   "cell_type": "code",
   "execution_count": 12,
   "metadata": {},
   "outputs": [],
   "source": [
    "def classify(x, i):\n",
    "    # classify values > 0 to 1, otherwise -1\n",
    "    weights = get_weights()\n",
    "    return np.sign(np.dot(weights, x[i]) + b)\n",
    "\n",
    "def KKT(x, y, i):\n",
    "    weights = get_weights()\n",
    "    return alpha[i] * (y[i] * (np.dot(weights, x[i]) + b) - 1)\n",
    "\n",
    "def K(x, i, j):\n",
    "    return np.dot(x[i], x[j])\n",
    "\n",
    "def E(x, y, i):\n",
    "    val = 0\n",
    "    for j in range(y.shape[0]):\n",
    "        val += alpha[j] * y[j] * K(x, j, i)\n",
    "    return val - y[i]\n",
    "\n",
    "def e(x, y, i1, i):\n",
    "    return E(x, y, i1) - E(x, y, i)\n",
    "\n",
    "# Helper argmax function\n",
    "def argmax(f, x):\n",
    "    vec_fn = np.vectorize(f)\n",
    "    \n",
    "    return np.argmax(vec_fn(x))"
   ]
  },
  {
   "cell_type": "code",
   "execution_count": 13,
   "metadata": {},
   "outputs": [],
   "source": [
    "def accuracy(classified_y, test_y):\n",
    "    comp = (classified_y == test_y)\n",
    "    return np.count_nonzero(comp) / len(comp)\n",
    "\n",
    "def classify_data(x):\n",
    "    return np.array([classify(x, i) for i in range(x.shape[0])])\n",
    "\n",
    "# Update alpha until classified. Using accuracy to test. (Steps 2 - 9)"
   ]
  },
  {
   "cell_type": "code",
   "execution_count": 14,
   "metadata": {},
   "outputs": [
    {
     "data": {
      "text/plain": [
       "1.0"
      ]
     },
     "execution_count": 14,
     "metadata": {},
     "output_type": "execute_result"
    }
   ],
   "source": [
    "accuracy(classify_data(x_test), y_test)"
   ]
  },
  {
   "cell_type": "code",
   "execution_count": 15,
   "metadata": {},
   "outputs": [],
   "source": [
    "while accuracy(classify_data(x_train), y_train) < 1:\n",
    "    i1 = argmax(lambda i: KKT(x_train, y_train, i), range(y_train.shape[0]))\n",
    "    x1 = x_train[i1]\n",
    "    i2 = argmax(lambda i: e(x_train, y_train, i1, i), range(y_train.shape[0]))\n",
    "    x2 = x_train[i2]    \n",
    "    \n",
    "    # Calc k = K11 + K22 - 2K12\n",
    "    k = K(x_train, i1, i1) + K(x_train, i2, i2) - (2 * K(x_train, i1, i2))\n",
    "    \n",
    "    # Update alpha 2\n",
    "    old_alpha_2 = alpha[i2]\n",
    "    alpha[i2] = old_alpha_2 + ((y_train[i2] * e(x_train, y_train, i1, i2)) / k)\n",
    "    \n",
    "    # Update alpha 1\n",
    "    alpha[i1] = alpha[i1] + (y_train[i1] * y_train[i2] * (old_alpha_2 - alpha[i2]))\n",
    "    \n",
    "    # Prune alphas\n",
    "    for i in range(len(alpha)):\n",
    "        if alpha[i] < .1:  # TODO make variable epsilon as a parameter\n",
    "            alpha[i] = 0\n",
    "    \n",
    "    # Calc b, I dunno man I was just tryin to average them... I can't remember how she said to do it\n",
    "    s = 0\n",
    "    for i in np.where(alpha > 0)[0]:\n",
    "        s += (((KKT(x_train, y_train, i) / alpha[i]) + 1) / y_train[i]) - np.dot(get_weights(), x_train[i])\n",
    "        \n",
    "    s /= len(np.where(alpha > 0)[0])\n",
    "    b = s\n",
    "    print(\"B = \", b)\n",
    "        \n",
    "    \n",
    "    acc = accuracy(classify_data(x_train), y_train)\n",
    "    print('New Accuracy:', acc)"
   ]
  },
  {
   "cell_type": "code",
   "execution_count": null,
   "metadata": {},
   "outputs": [],
   "source": []
  }
 ],
 "metadata": {
  "kernelspec": {
   "display_name": "Python 3",
   "language": "python",
   "name": "python3"
  },
  "language_info": {
   "codemirror_mode": {
    "name": "ipython",
    "version": 3
   },
   "file_extension": ".py",
   "mimetype": "text/x-python",
   "name": "python",
   "nbconvert_exporter": "python",
   "pygments_lexer": "ipython3",
   "version": "3.8.8"
  }
 },
 "nbformat": 4,
 "nbformat_minor": 2
}
