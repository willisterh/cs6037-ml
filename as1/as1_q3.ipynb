{
 "cells": [
  {
   "cell_type": "code",
   "execution_count": 1,
   "metadata": {},
   "outputs": [],
   "source": [
    "import numpy as np\n",
    "import matplotlib.pyplot as plt"
   ]
  },
  {
   "cell_type": "markdown",
   "metadata": {},
   "source": [
    "# Getting our data into Python\n",
    "\n",
    "We're going to start off with reading our given `insurance.csv` file; which is a little tricky considering it has a bunch of non-numeric information like the region.\n",
    "So we're also going to be stripping out the columns and headers, and converting the data into numbers that we can work with."
   ]
  },
  {
   "cell_type": "code",
   "execution_count": 2,
   "metadata": {},
   "outputs": [
    {
     "data": {
      "text/plain": [
       "array([['age', 'sex', 'bmi', ..., 'smoker', 'region', 'charges'],\n",
       "       ['19', 'female', '27.9', ..., 'yes', 'southwest', '16884.924'],\n",
       "       ['18', 'male', '33.77', ..., 'no', 'southeast', '1725.5523'],\n",
       "       ...,\n",
       "       ['18', 'female', '36.85', ..., 'no', 'southeast', '1629.8335'],\n",
       "       ['21', 'female', '25.8', ..., 'no', 'southwest', '2007.945'],\n",
       "       ['61', 'female', '29.07', ..., 'yes', 'northwest', '29141.3603']],\n",
       "      dtype='<U11')"
      ]
     },
     "execution_count": 2,
     "metadata": {},
     "output_type": "execute_result"
    }
   ],
   "source": [
    "# Load the csv as a numpy array of strings, \n",
    "# because we need to strip out the sex, smoker, and region columns to utilize the numbers\n",
    "raw_data = np.loadtxt('insurance.csv', delimiter=',', dtype=str)\n",
    "\n",
    "# Just putting \"raw_data\" here prints out said variable as it would in a normal console\n",
    "raw_data"
   ]
  },
  {
   "cell_type": "code",
   "execution_count": 3,
   "metadata": {},
   "outputs": [
    {
     "data": {
      "text/plain": [
       "matrix([[1.90000000e+01, 2.79000000e+01, 0.00000000e+00, 1.68849240e+04],\n",
       "        [1.80000000e+01, 3.37700000e+01, 1.00000000e+00, 1.72555230e+03],\n",
       "        [2.80000000e+01, 3.30000000e+01, 3.00000000e+00, 4.44946200e+03],\n",
       "        ...,\n",
       "        [1.80000000e+01, 3.68500000e+01, 0.00000000e+00, 1.62983350e+03],\n",
       "        [2.10000000e+01, 2.58000000e+01, 0.00000000e+00, 2.00794500e+03],\n",
       "        [6.10000000e+01, 2.90700000e+01, 0.00000000e+00, 2.91413603e+04]])"
      ]
     },
     "execution_count": 3,
     "metadata": {},
     "output_type": "execute_result"
    }
   ],
   "source": [
    "# First lets delete the columns we don't need\n",
    "# (see numpy's delete documentation)\n",
    "stripped = np.delete(raw_data, [1, 4, 5], axis=1)\n",
    "\n",
    "# We also need to remove the first row which is just the names of each column\n",
    "stripped = np.delete(stripped, [0], axis=0)\n",
    "\n",
    "# Next lets convert the strings into usable numbers\n",
    "clean_data = np.matrix(stripped, dtype=float)\n",
    "\n",
    "clean_data"
   ]
  },
  {
   "cell_type": "code",
   "execution_count": 4,
   "metadata": {},
   "outputs": [],
   "source": [
    "# Lets make a helper function to split up our X and Y matrices\n",
    "def split_input_output(data):\n",
    "    \"\"\"\n",
    "    Splits the input array into two seperate sets:\n",
    "        * the feature values\n",
    "        * the output value\n",
    "        \n",
    "    :returns: (tuple) the features are the first element, the outputs are the second\n",
    "    \"\"\"\n",
    "    return np.delete(data, [data.shape[1] - 1], axis=1), data[:, -1]"
   ]
  },
  {
   "cell_type": "code",
   "execution_count": 5,
   "metadata": {},
   "outputs": [],
   "source": [
    "# Test it out!\n",
    "x, y = split_input_output(clean_data)"
   ]
  },
  {
   "cell_type": "code",
   "execution_count": 6,
   "metadata": {},
   "outputs": [
    {
     "data": {
      "text/plain": [
       "matrix([[16884.924 ],\n",
       "        [ 1725.5523],\n",
       "        [ 4449.462 ],\n",
       "        ...,\n",
       "        [ 1629.8335],\n",
       "        [ 2007.945 ],\n",
       "        [29141.3603]])"
      ]
     },
     "execution_count": 6,
     "metadata": {},
     "output_type": "execute_result"
    }
   ],
   "source": [
    "y"
   ]
  },
  {
   "cell_type": "code",
   "execution_count": 7,
   "metadata": {},
   "outputs": [
    {
     "data": {
      "text/plain": [
       "matrix([[19.  , 27.9 ,  0.  ],\n",
       "        [18.  , 33.77,  1.  ],\n",
       "        [28.  , 33.  ,  3.  ],\n",
       "        ...,\n",
       "        [18.  , 36.85,  0.  ],\n",
       "        [21.  , 25.8 ,  0.  ],\n",
       "        [61.  , 29.07,  0.  ]])"
      ]
     },
     "execution_count": 7,
     "metadata": {},
     "output_type": "execute_result"
    }
   ],
   "source": [
    "x"
   ]
  },
  {
   "cell_type": "markdown",
   "metadata": {},
   "source": [
    "# Selecting Training and Testing data\n",
    "\n",
    "The meat of this assignment involves doing multiple trials with differing ratios of training and testing data. So we need a convenient way to split up the data we now have into two sets."
   ]
  },
  {
   "cell_type": "code",
   "execution_count": 8,
   "metadata": {},
   "outputs": [],
   "source": [
    "def get_sets(data, split):\n",
    "    \"\"\"\n",
    "    Convenience function that randomly selects a training and test set from the input data.\n",
    "    \n",
    "    :param data: (ndarray) the data you want to split\n",
    "    :param split: (float) the percentage of the data you want to be TRAINING data\n",
    "    \n",
    "    :returns: (tuple) a tuple where the first element is the training set, and the second element is the test set\n",
    "    \"\"\"\n",
    "    # Randomly shuffle the order from a copy of the data\n",
    "    shuffled = data.copy()\n",
    "    np.random.shuffle(shuffled)\n",
    "\n",
    "    row_count = data.shape[0]\n",
    "\n",
    "    # Stick in values of 1.0 at the beginning of the shuffled data, for the bias value\n",
    "    bias = np.ones((row_count, 1))\n",
    "    shuffled = np.hstack((bias, shuffled))\n",
    "\n",
    "    # calc the number of samples, assumes the input samples are seperated by row\n",
    "    training_count = round(row_count * split)\n",
    "    \n",
    "    training_set = shuffled[:training_count]\n",
    "    test_set = shuffled[training_count:]\n",
    "    \n",
    "    return training_set, test_set"
   ]
  },
  {
   "cell_type": "code",
   "execution_count": 9,
   "metadata": {},
   "outputs": [
    {
     "name": "stdout",
     "output_type": "stream",
     "text": [
      "(669, 5)\n",
      "(669, 5)\n",
      "********************************************************************************\n",
      "[[1.00000000e+00 2.60000000e+01 4.01850000e+01 0.00000000e+00\n",
      "  3.20124515e+03]\n",
      " [1.00000000e+00 2.40000000e+01 3.33450000e+01 0.00000000e+00\n",
      "  2.85543755e+03]\n",
      " [1.00000000e+00 4.50000000e+01 2.87000000e+01 2.00000000e+00\n",
      "  8.02796800e+03]\n",
      " [1.00000000e+00 5.20000000e+01 3.67650000e+01 2.00000000e+00\n",
      "  2.64670974e+04]\n",
      " [1.00000000e+00 2.80000000e+01 2.39800000e+01 3.00000000e+00\n",
      "  1.76631442e+04]]\n",
      "********************************************************************************\n",
      "[[1.00000000e+00 2.90000000e+01 2.79400000e+01 1.00000000e+00\n",
      "  1.91077796e+04]\n",
      " [1.00000000e+00 4.10000000e+01 3.07800000e+01 3.00000000e+00\n",
      "  3.95974072e+04]\n",
      " [1.00000000e+00 4.10000000e+01 3.10200000e+01 0.00000000e+00\n",
      "  6.18532080e+03]\n",
      " [1.00000000e+00 4.70000000e+01 3.60800000e+01 1.00000000e+00\n",
      "  4.22111382e+04]\n",
      " [1.00000000e+00 3.40000000e+01 3.08000000e+01 0.00000000e+00\n",
      "  3.54916400e+04]]\n",
      "********************************************************************************\n",
      "first 5 feature sets = \n",
      "[[ 1.    26.    40.185  0.   ]\n",
      " [ 1.    24.    33.345  0.   ]\n",
      " [ 1.    45.    28.7    2.   ]\n",
      " [ 1.    52.    36.765  2.   ]\n",
      " [ 1.    28.    23.98   3.   ]]\n",
      "\n",
      "first 5 outputs = \n",
      "[[ 3201.24515]\n",
      " [ 2855.43755]\n",
      " [ 8027.968  ]\n",
      " [26467.09737]\n",
      " [17663.1442 ]]\n",
      "\n"
     ]
    }
   ],
   "source": [
    "# Lets do an example of splitting our data into two sets, 50/50 split\n",
    "training_set, test_set = get_sets(clean_data, .50)\n",
    "\n",
    "# Print the size of the two sets\n",
    "print(training_set.shape)\n",
    "print(test_set.shape)\n",
    "\n",
    "print('*' * 80)\n",
    "\n",
    "# Print the first 5 data points of each, for the fun of it\n",
    "print(training_set[:5])\n",
    "print('*' * 80)\n",
    "print(test_set[:5])\n",
    "print('*' * 80)\n",
    "\n",
    "# Also we can call `split_input_output` on these\n",
    "training_x, training_y = split_input_output(training_set)\n",
    "test_x, test_y = split_input_output(test_set)\n",
    "\n",
    "print(f'first 5 feature sets = \\n{training_x[:5]}\\n')\n",
    "print(f'first 5 outputs = \\n{training_y[:5]}\\n')"
   ]
  },
  {
   "cell_type": "markdown",
   "metadata": {},
   "source": [
    "# Linear Regression\n",
    "\n",
    "Now that we have data that we can actually do regression on, lets whip up some functions to do the normal equation and also apply our hypotheses to test data to get estimates."
   ]
  },
  {
   "cell_type": "code",
   "execution_count": 10,
   "metadata": {},
   "outputs": [],
   "source": [
    "def normal_eq(x_matrix, y_matrix):\n",
    "    \"\"\"\n",
    "    Does the normal equation! theta = (transpose(x) * X)^-1 * transpose(x) * y    \n",
    "    \n",
    "    :param x_matrix: (matrix) set of feature values\n",
    "    :param y_matrix: (matrix) set of output values\n",
    "    \n",
    "    :returns: (matrix) a 1-dimensional array of THETA VALUES!!!! (the hypothesis)\n",
    "    \"\"\"\n",
    "    # Get the transpose of x\n",
    "    xt_matrix = x_matrix.getT()\n",
    "    \n",
    "    # Get the inverse of the transpose of x * x\n",
    "    inverted_term = (xt_matrix * x_matrix).getI()\n",
    "    \n",
    "    # Multiply by the transpose of x and then by y\n",
    "    t = inverted_term * xt_matrix\n",
    "    return t * y_matrix\n",
    "    "
   ]
  },
  {
   "cell_type": "code",
   "execution_count": 11,
   "metadata": {},
   "outputs": [
    {
     "data": {
      "text/plain": [
       "matrix([[-7811.0399224 ],\n",
       "        [  237.93649787],\n",
       "        [  351.43948199],\n",
       "        [  729.60071892]])"
      ]
     },
     "execution_count": 11,
     "metadata": {},
     "output_type": "execute_result"
    }
   ],
   "source": [
    "h = normal_eq(training_x, training_y)\n",
    "h\n",
    "# The first value is the bias (the y intercept)\n",
    "# Second value: slope for age\n",
    "# Third value: slope for BMI\n",
    "# Fourth value: slope for number of kids"
   ]
  },
  {
   "cell_type": "code",
   "execution_count": 12,
   "metadata": {},
   "outputs": [],
   "source": [
    "# Yes I know this isn't a word, I just couldn't resist\n",
    "def hypothesize(h_matrix, test_x_matrix):\n",
    "    \"\"\"\n",
    "    Applies a set of hypothesis values to some test feature values to get an estimated output.\n",
    "    \n",
    "    :param h_matrix: the hypothesis (or theta) matrix\n",
    "    :param test_x_matrix: the matrix of feature values that we want to predict on\n",
    "    \n",
    "    :returns: a matrix of predicted output values!\n",
    "    \"\"\"\n",
    "    return test_x_matrix * h_matrix"
   ]
  },
  {
   "cell_type": "code",
   "execution_count": 13,
   "metadata": {},
   "outputs": [],
   "source": [
    "# Get some estimated values!\n",
    "hypothesis_y = hypothesize(h, test_x)"
   ]
  },
  {
   "cell_type": "code",
   "execution_count": 14,
   "metadata": {},
   "outputs": [
    {
     "data": {
      "image/png": "[encoded data removed]",
      "text/plain": [
       "<Figure size 432x288 with 1 Axes>"
      ]
     },
     "metadata": {
      "needs_background": "light"
     },
     "output_type": "display_data"
    }
   ],
   "source": [
    "# Plot premium as a function of age!\n",
    "x = test_x[:, 1].flatten()\n",
    "y = test_y.flatten()\n",
    "\n",
    "m = float(h[1,0])\n",
    "b = float(h[0,0])\n",
    "\n",
    "xh = np.arange(x.min(), x.max() + 1)\n",
    "yh = xh * m + b\n",
    "\n",
    "plt.plot(x,y,'bo', markersize=3)\n",
    "plt.plot(xh, yh, 'r--', linewidth=3)\n",
    "plt.show()"
   ]
  },
  {
   "cell_type": "code",
   "execution_count": 15,
   "metadata": {},
   "outputs": [
    {
     "data": {
      "image/png": "[encoded data removed]",
      "text/plain": [
       "<Figure size 432x288 with 1 Axes>"
      ]
     },
     "metadata": {
      "needs_background": "light"
     },
     "output_type": "display_data"
    }
   ],
   "source": [
    "# Plot premium as a function of BMI!\n",
    "x = test_x[:, 2].flatten()\n",
    "y = test_y.flatten()\n",
    "\n",
    "m = float(h[2,0])\n",
    "b = float(h[0,0])\n",
    "\n",
    "xh = np.arange(x.min(), x.max() + 1)\n",
    "yh = xh * m + b\n",
    "\n",
    "plt.plot(x,y,'bo', markersize=3)\n",
    "plt.plot(xh, yh, 'r--', linewidth=3)\n",
    "plt.show()"
   ]
  },
  {
   "cell_type": "code",
   "execution_count": 16,
   "metadata": {},
   "outputs": [
    {
     "data": {
      "image/png": "[encoded data removed]",
      "text/plain": [
       "<Figure size 432x288 with 1 Axes>"
      ]
     },
     "metadata": {
      "needs_background": "light"
     },
     "output_type": "display_data"
    }
   ],
   "source": [
    "# Plot premium as a function of children!\n",
    "x = test_x[:, 3].flatten()\n",
    "y = test_y.flatten()\n",
    "\n",
    "m = float(h[3,0])\n",
    "b = float(h[0,0])\n",
    "\n",
    "xh = np.arange(x.min(), x.max() + 1)\n",
    "yh = xh * m + b\n",
    "\n",
    "plt.plot(x,y,'bo', markersize=3)\n",
    "plt.plot(xh, yh, 'r--', linewidth=3)\n",
    "plt.show()"
   ]
  },
  {
   "cell_type": "code",
   "execution_count": 17,
   "metadata": {},
   "outputs": [],
   "source": [
    "# ^^ yikes dog?\n",
    "# Next up is doing RMSE"
   ]
  },
  {
   "cell_type": "markdown",
   "metadata": {},
   "source": [
    "# Training and Test Error\n",
    "\n",
    "The error for the training and test sets can then be found using the mean square error (MSE)."
   ]
  },
  {
   "cell_type": "code",
   "execution_count": 18,
   "metadata": {},
   "outputs": [],
   "source": [
    "# First define a function to calculate the MSE for data set\n",
    "def mean_square_error(h_y_matrix, y_matrix):\n",
    "    # h and y are expected to be the same size\n",
    "    rows = y_matrix.shape[0]\n",
    "    \n",
    "    # Calculate the sum of the square differences between h(x) and y(x)\n",
    "    sum_squares = sum((h_y_matrix[i,0] - y_matrix[i,0])**2 for i in range(0, rows))\n",
    "    return sum_squares / rows"
   ]
  },
  {
   "cell_type": "code",
   "execution_count": 19,
   "metadata": {},
   "outputs": [
    {
     "data": {
      "text/plain": [
       "164285617.5885144"
      ]
     },
     "execution_count": 19,
     "metadata": {},
     "output_type": "execute_result"
    }
   ],
   "source": [
    "# Determine the MSE for the training set to find the 'modeling power'\n",
    "\n",
    "# Get some estimated values for the training set!\n",
    "training_hypothesis_y = hypothesize(h, training_x)\n",
    "\n",
    "mean_square_error(training_hypothesis_y, test_y)"
   ]
  },
  {
   "cell_type": "code",
   "execution_count": 20,
   "metadata": {},
   "outputs": [
    {
     "data": {
      "text/plain": [
       "127934256.0945478"
      ]
     },
     "execution_count": 20,
     "metadata": {},
     "output_type": "execute_result"
    }
   ],
   "source": [
    "# Determine the MSE for the test set to find the 'generalization power'\n",
    "\n",
    "mean_square_error(hypothesis_y, test_y)"
   ]
  },
  {
   "cell_type": "code",
   "execution_count": 21,
   "metadata": {},
   "outputs": [],
   "source": [
    "# Still need to handle splitting of training/test data for all errors\n",
    "# to be calculated and plotted\n",
    "\n",
    "# Also, do we want MSE or is that a typo in the assignment?\n",
    "# I feel like RMSE makes more sense"
   ]
  }
 ],
 "metadata": {
  "kernelspec": {
   "display_name": "Python 3",
   "language": "python",
   "name": "python3"
  },
  "language_info": {
   "codemirror_mode": {
    "name": "ipython",
    "version": 3
   },
   "file_extension": ".py",
   "mimetype": "text/x-python",
   "name": "python",
   "nbconvert_exporter": "python",
   "pygments_lexer": "ipython3",
   "version": "3.8.8"
  }
 },
 "nbformat": 4,
 "nbformat_minor": 2
}
