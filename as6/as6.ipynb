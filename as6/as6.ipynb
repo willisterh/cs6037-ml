{
 "cells": [
  {
   "cell_type": "code",
   "execution_count": 1,
   "metadata": {},
   "outputs": [],
   "source": [
    "# Will Hollingsworth, Colton Murray, Alexander Shiveley"
   ]
  },
  {
   "cell_type": "code",
   "execution_count": 2,
   "metadata": {},
   "outputs": [],
   "source": [
    "import numpy as np\n",
    "import matplotlib.pyplot as plt\n",
    "import sympy as sp"
   ]
  },
  {
   "cell_type": "markdown",
   "metadata": {},
   "source": [
    "# Q1"
   ]
  },
  {
   "cell_type": "markdown",
   "metadata": {},
   "source": [
    "By using the same method in the notes to expand the kernel function for some n and d, m can be found.  After expanding, and simplifying, m = number of terms in the polynomial.\n",
    "\n",
    "c is set to 1.\n",
    "\n",
    "To avoid tedious calculations, the expansions were done using sympy."
   ]
  },
  {
   "cell_type": "code",
   "execution_count": 3,
   "metadata": {},
   "outputs": [
    {
     "name": "stdout",
     "output_type": "stream",
     "text": [
      "n: 1   d: 1   m: 2\n",
      "n: 1   d: 2   m: 3\n",
      "n: 1   d: 3   m: 4\n",
      "n: 1   d: 4   m: 5\n",
      "n: 1   d: 5   m: 6\n",
      "n: 2   d: 1   m: 3\n",
      "n: 2   d: 2   m: 6\n",
      "n: 2   d: 3   m: 10\n",
      "n: 2   d: 4   m: 15\n",
      "n: 2   d: 5   m: 21\n",
      "n: 3   d: 1   m: 4\n",
      "n: 3   d: 2   m: 10\n",
      "n: 3   d: 3   m: 20\n",
      "n: 3   d: 4   m: 35\n",
      "n: 3   d: 5   m: 56\n",
      "n: 4   d: 1   m: 5\n",
      "n: 4   d: 2   m: 15\n",
      "n: 4   d: 3   m: 35\n",
      "n: 4   d: 4   m: 70\n",
      "n: 4   d: 5   m: 126\n"
     ]
    }
   ],
   "source": [
    "def get_m(n, d):\n",
    "    \"\"\"\n",
    "    Expands and counts the terms in the polynomial kernel function for some n and d, where c = 1\n",
    "    \"\"\"\n",
    "    # Supports n up to 4\n",
    "    if n == 1:\n",
    "        x1, z1 = sp.symbols('x1 z1')\n",
    "        result = sp.expand((x1*z1+1)**d)\n",
    "    elif n == 2:\n",
    "        x1, z1, x2, z2 = sp.symbols('x1 z1 x2 z2')\n",
    "        result = sp.expand((x1*z1+x2*z2+1)**d)\n",
    "    elif n == 3:\n",
    "        x1, z1, x2, z2, x3, z3 = sp.symbols('x1 z1 x2 z2 x3 z3')\n",
    "        result = sp.expand((x1*z1+x2*z2+x3*z3+1)**d)\n",
    "    elif n == 4:\n",
    "        x1, z1, x2, z2, x3, z3, x4, z4 = sp.symbols('x1 z1 x2 z2 x3 z3 x4 z4')\n",
    "        result = sp.expand((x1*z1+x2*z2+x3*z3+x4*z4+1)**d)    \n",
    "    return str(result).count('+') + 1\n",
    "\n",
    "# Find m for n = [1, 4], d = [1, 5]\n",
    "for n in range(1, 5):\n",
    "    for d in range(1, 6):\n",
    "        print('n:', n, '  d:', d, '  m:', get_m(n, d))    "
   ]
  },
  {
   "cell_type": "markdown",
   "metadata": {},
   "source": [
    "The most noticable pattern is that for some $n_1$, $d_1$, $n_2$, $d_2$ where $n_2 = d_1$ and $d_2 = n_1$, $m_1 = m_2$.\n",
    "For example for $n = 2$, $d = 3$ and $n = 3$, $d = 2$, results in $m = 10$ for both cases.\n",
    "\n",
    "This suggests there is some term in the relation like $n + d$ or $n * d$ involved for symmetry.\n",
    "\n",
    "Another pattern is that for larger $n$ and $d$, $m$ grows large quickly. This suggests operations like exponents or factorials may be involved.\n",
    "\n",
    "Using the above patterns, the final equation below was found to relate $n$, $d$, and $m$:\n",
    "\n",
    "$$m = \\frac{(n + d)!}{n! d!}$$"
   ]
  },
  {
   "cell_type": "markdown",
   "metadata": {},
   "source": [
    "# Q2"
   ]
  },
  {
   "cell_type": "markdown",
   "metadata": {},
   "source": [
    "# Getting the data into Python"
   ]
  },
  {
   "cell_type": "code",
   "execution_count": 4,
   "metadata": {},
   "outputs": [],
   "source": [
    "# Load the txt as a numpy array of strings, \n",
    "# because it includes the column headers\n",
    "raw_data = np.loadtxt('as6_data.txt', delimiter=' ', dtype=str)\n",
    "\n",
    "# Convert everything into floats!\n",
    "clean_data = np.array(raw_data, dtype=float)"
   ]
  },
  {
   "cell_type": "code",
   "execution_count": 5,
   "metadata": {},
   "outputs": [
    {
     "data": {
      "image/png": "[encoded data removed]",
      "text/plain": [
       "<Figure size 432x432 with 1 Axes>"
      ]
     },
     "metadata": {
      "needs_background": "light"
     },
     "output_type": "display_data"
    }
   ],
   "source": [
    "def split_pos_neg(data):\n",
    "    \"\"\"\n",
    "    Returns two sets of positive, then negative examples (1's then -1's from the output column)\n",
    "    \"\"\"\n",
    "    return data[data[:, -1]==1, :-1], data[data[:, -1]==-1, :-1]\n",
    "\n",
    "pos, neg = split_pos_neg(clean_data)\n",
    "\n",
    "x1_pos = pos[:, 0].flatten()\n",
    "x2_pos = pos[:, 1].flatten()\n",
    "x1_neg = neg[:, 0].flatten()\n",
    "x2_neg = neg[:, 1].flatten()\n",
    "\n",
    "plt.figure(figsize=(6,6))\n",
    "plt.plot(x1_pos,x2_pos,'bo', markersize=3)\n",
    "plt.plot(x1_neg,x2_neg,'rx', markersize=3)\n",
    "plt.suptitle('Data Plot')\n",
    "plt.legend(['Class = 1', 'Class = -1'],bbox_to_anchor=(1.04,0.5), loc=\"center left\")\n",
    "plt.show()"
   ]
  },
  {
   "cell_type": "code",
   "execution_count": 6,
   "metadata": {},
   "outputs": [],
   "source": [
    "def get_sets(data, split):\n",
    "    \"\"\"\n",
    "    Convenience function that randomly selects a training and test set from the input data.\n",
    "    \n",
    "    :param data: (ndarray) the data you want to split\n",
    "    :param split: (float array) the percentages of the data you want to be TRAINING, VALIDATION, and TESTING data\n",
    "    \n",
    "    :returns: (tuple) a tuple where the first element is the training set, and the second element is the test set\n",
    "    \"\"\"\n",
    "    # Randomly shuffle the order from a copy of the data\n",
    "    shuffled = data.copy()\n",
    "    np.random.shuffle(shuffled)\n",
    "\n",
    "    row_count = data.shape[0]\n",
    "\n",
    "    # calc the number of samples, assumes the input samples are seperated by row\n",
    "    training_count = round(row_count * split)\n",
    "    \n",
    "    training_set = shuffled[:training_count]\n",
    "    test_set = shuffled[training_count:]\n",
    "    \n",
    "    return training_set, test_set"
   ]
  },
  {
   "cell_type": "code",
   "execution_count": 7,
   "metadata": {},
   "outputs": [],
   "source": [
    "training, test = get_sets(clean_data, .5)"
   ]
  },
  {
   "cell_type": "markdown",
   "metadata": {},
   "source": [
    "# Initializing alpha"
   ]
  },
  {
   "cell_type": "code",
   "execution_count": 8,
   "metadata": {},
   "outputs": [],
   "source": [
    "import random\n",
    "\n",
    "def init_lagrange_multipliers(data):\n",
    "    # Find positions where the labels are -1, and 1 respectively\n",
    "    neg = np.where(data[:, 2] == -1)[0]\n",
    "    pos = np.where(data[:, 2] == 1)[0]\n",
    "    \n",
    "    y = data[:, 2]\n",
    "    alpha = np.array([random.randint(0, 100) for _ in y], dtype=float)\n",
    "    \n",
    "    # Calculate the sum of the product of the labels and alpha values\n",
    "    t = sum(y * np.transpose(alpha))\n",
    "    \n",
    "    # If the sum is positive, \n",
    "    # then increment a random alpha value corresponding to a negative label\n",
    "    while t > 0:\n",
    "        i = np.random.choice(neg)\n",
    "        alpha[i] += 1\n",
    "        t = sum(y * np.transpose(alpha))\n",
    "        \n",
    "    # If the sum is negative, \n",
    "    # then increment a random alpha value corresponding to a positive label\n",
    "    while t < 0:\n",
    "        i = np.random.choice(pos)\n",
    "        alpha[i] += 1\n",
    "        t = sum(y * np.transpose(alpha))\n",
    "        \n",
    "    return alpha"
   ]
  },
  {
   "cell_type": "code",
   "execution_count": 9,
   "metadata": {},
   "outputs": [
    {
     "name": "stdout",
     "output_type": "stream",
     "text": [
      "[ 74.  32.  54.  67.  95.  36.  50.  68. 127. 119.  67.  57.  47.  76.\n",
      "  56.  56.  26.  71.  80. 113.  94.  57.  24.  47.  36.  97. 105.  39.\n",
      "  66.  11.  21.  72.  42.  21.  97.  67.  26.  42.  69.  52.  78.  32.\n",
      "  78.  43.  13. 118.  46.  71.  67. 100.   1.  82.  38.  93.  16.  95.\n",
      "  61.  64.  79. 109.  61.  64.  53.  71.  63.  74.  93.  11.  11.  87.\n",
      "  81.  56.  68.  30.  54.  95. 111.  58.  96.  47.  71.  46. 108.  22.\n",
      "  40.  36.  76.  52.  94.  23.  54.  73.  57.  57.  90.  64. 108.   7.\n",
      " 116.  64.  17.  19.  40.  51.  47.  72.  86.   5.  83.  65.  67. 117.\n",
      "  15. 107.  74.  62. 114.  86.  87. 123.  42.  53.  88. 101. 120.  32.\n",
      "  69.  75. 100.  94.   2.  54.  21.]\n"
     ]
    }
   ],
   "source": [
    "alpha = init_lagrange_multipliers(training)\n",
    "print(alpha)\n",
    "\n",
    "# Initialize b to 0\n",
    "b = 0"
   ]
  },
  {
   "cell_type": "code",
   "execution_count": 10,
   "metadata": {},
   "outputs": [
    {
     "data": {
      "text/plain": [
       "0.0"
      ]
     },
     "execution_count": 10,
     "metadata": {},
     "output_type": "execute_result"
    }
   ],
   "source": [
    "sum(training[:, 2] * np.transpose(alpha))"
   ]
  },
  {
   "cell_type": "markdown",
   "metadata": {},
   "source": [
    "# SMO Algorithm"
   ]
  },
  {
   "cell_type": "code",
   "execution_count": 11,
   "metadata": {},
   "outputs": [
    {
     "data": {
      "text/plain": [
       "array([-609545.,  393503.])"
      ]
     },
     "execution_count": 11,
     "metadata": {},
     "output_type": "execute_result"
    }
   ],
   "source": [
    "# Lets make a helper function to split up our X and Y matrices\n",
    "def split_input_output(data):\n",
    "    \"\"\"\n",
    "    Splits the input array into two seperate sets:\n",
    "        * the feature values\n",
    "        * the output value\n",
    "        \n",
    "    :returns: (tuple) the features are the first element, the outputs are the second\n",
    "    \"\"\"\n",
    "    return np.delete(data, [data.shape[1] - 1], axis=1), data[:, -1]\n",
    "\n",
    "def get_weights():\n",
    "    # Always use x_train, y_train\n",
    "    vec = np.zeros(x_train.shape[1])\n",
    "    for i in range(y_train.shape[0]):\n",
    "        vec += alpha[i] * y_train[i] * x_train[i]\n",
    "    return vec\n",
    "\n",
    "x_train, y_train = split_input_output(training)\n",
    "x_test, y_test = split_input_output(test)\n",
    "\n",
    "weights = get_weights()\n",
    "\n",
    "weights"
   ]
  },
  {
   "cell_type": "code",
   "execution_count": 12,
   "metadata": {},
   "outputs": [],
   "source": [
    "def classify(x, i):\n",
    "    # classify values > 0 to 1, otherwise -1\n",
    "    weights = get_weights()\n",
    "    return np.sign(np.dot(weights, x[i]) + b)\n",
    "\n",
    "def KKT(x, y, i):\n",
    "    weights = get_weights()\n",
    "    return alpha[i] * (y[i] * (np.dot(weights, x[i]) + b) - 1)\n",
    "\n",
    "def K(x, i, j):\n",
    "    return np.dot(x[i], x[j])\n",
    "\n",
    "def E(x, y, i):\n",
    "    val = 0\n",
    "    for j in range(y.shape[0]):\n",
    "        val += alpha[j] * y[j] * K(x, j, i)\n",
    "    return val - y[i]\n",
    "\n",
    "def e(x, y, i1, i):\n",
    "    return E(x, y, i1) - E(x, y, i)\n",
    "\n",
    "# Helper argmax function\n",
    "def argmax(f, x):\n",
    "    vec_fn = np.vectorize(f)\n",
    "    \n",
    "    return np.argmax(vec_fn(x))"
   ]
  },
  {
   "cell_type": "code",
   "execution_count": 13,
   "metadata": {},
   "outputs": [],
   "source": [
    "def accuracy(classified_y, test_y):\n",
    "    comp = (classified_y == test_y)\n",
    "    return np.count_nonzero(comp) / len(comp)\n",
    "\n",
    "def classify_data(x):\n",
    "    return np.array([classify(x, i) for i in range(x.shape[0])])\n"
   ]
  },
  {
   "cell_type": "code",
   "execution_count": 14,
   "metadata": {},
   "outputs": [
    {
     "data": {
      "text/plain": [
       "0.8872180451127819"
      ]
     },
     "execution_count": 14,
     "metadata": {},
     "output_type": "execute_result"
    }
   ],
   "source": [
    "accuracy(classify_data(x_test), y_test)"
   ]
  },
  {
   "cell_type": "code",
   "execution_count": 15,
   "metadata": {},
   "outputs": [
    {
     "name": "stdout",
     "output_type": "stream",
     "text": [
      "B =  -2.8221896200469047e-10\n",
      "New Accuracy: 0.40601503759398494\n",
      "B =  2.2749864418088024e-10\n",
      "New Accuracy: 0.40601503759398494\n",
      "B =  1.3649918650852815e-09\n",
      "New Accuracy: 0.40601503759398494\n",
      "B =  -1.5014910515938095e-08\n",
      "New Accuracy: 0.40601503759398494\n",
      "B =  9.55494305559697e-09\n",
      "New Accuracy: 0.40601503759398494\n",
      "B =  -1.910988611119394e-08\n",
      "New Accuracy: 0.40601503759398494\n",
      "B =  -6.005964206375238e-08\n",
      "New Accuracy: 0.40601503759398494\n",
      "B =  -7.643954444477576e-08\n",
      "New Accuracy: 0.40601503759398494\n",
      "B =  5.823965291030534e-08\n",
      "New Accuracy: 0.40601503759398494\n",
      "B =  1.4559913227576336e-07\n",
      "New Accuracy: 0.40601503759398494\n",
      "B =  2.911982645515267e-07\n",
      "New Accuracy: 0.40601503759398494\n",
      "B =  -5.823965291030535e-07\n",
      "New Accuracy: 0.40601503759398494\n",
      "B =  1.4559913227576337e-06\n",
      "New Accuracy: 0.40601503759398494\n",
      "B =  -9.318344465648855e-07\n",
      "New Accuracy: 0.40601503759398494\n",
      "B =  -3.028461951335878e-06\n",
      "New Accuracy: 0.40601503759398494\n"
     ]
    }
   ],
   "source": [
    "epsilon = 0.1\n",
    "\n",
    "# Update alpha until classified. Using accuracy to test. (Steps 2 - 9)\n",
    "# Stop after 15 epochs as the algorithm is not fully working\n",
    "epochs = 0\n",
    "while accuracy(classify_data(x_train), y_train) < 1 and epochs < 15:\n",
    "    i1 = argmax(lambda i: KKT(x_train, y_train, i), range(y_train.shape[0]))\n",
    "    x1 = x_train[i1]\n",
    "    i2 = argmax(lambda i: e(x_train, y_train, i1, i), range(y_train.shape[0]))\n",
    "    x2 = x_train[i2]    \n",
    "    \n",
    "    # Calc k = K11 + K22 - 2K12\n",
    "    k = K(x_train, i1, i1) + K(x_train, i2, i2) - (2 * K(x_train, i1, i2))\n",
    "    \n",
    "    # Update alpha 2\n",
    "    old_alpha_2 = alpha[i2]\n",
    "    alpha[i2] = old_alpha_2 + ((y_train[i2] * e(x_train, y_train, i1, i2)) / k)\n",
    "    \n",
    "    # Update alpha 1\n",
    "    alpha[i1] = alpha[i1] + (y_train[i1] * y_train[i2] * (old_alpha_2 - alpha[i2]))\n",
    "    \n",
    "    # Prune alphas\n",
    "    for i in range(len(alpha)):\n",
    "        if alpha[i] < epsilon:\n",
    "            alpha[i] = 0\n",
    "    \n",
    "    # Calculate b\n",
    "    s = 0\n",
    "    for i in np.where(alpha > 0)[0]:\n",
    "        s += (((KKT(x_train, y_train, i) / alpha[i]) + 1) / y_train[i]) - np.dot(get_weights(), x_train[i])\n",
    "        \n",
    "    s /= len(np.where(alpha > 0)[0])\n",
    "    b = s\n",
    "    print(\"B = \", b)\n",
    "        \n",
    "    \n",
    "    acc = accuracy(classify_data(x_train), y_train)\n",
    "    print('New Accuracy:', acc)\n",
    "    epochs += 1"
   ]
  },
  {
   "cell_type": "code",
   "execution_count": 16,
   "metadata": {},
   "outputs": [
    {
     "name": "stdout",
     "output_type": "stream",
     "text": [
      "Test Accuracy: 0.5789473684210527\n"
     ]
    },
    {
     "data": {
      "image/png": "[encoded data removed]",
      "text/plain": [
       "<Figure size 432x432 with 1 Axes>"
      ]
     },
     "metadata": {
      "needs_background": "light"
     },
     "output_type": "display_data"
    }
   ],
   "source": [
    "print('Test Accuracy:', accuracy(classify_data(x_test), y_test))\n",
    "\n",
    "pos, neg = split_pos_neg(test)\n",
    "\n",
    "x1_pos = pos[:, 0].flatten()\n",
    "x2_pos = pos[:, 1].flatten()\n",
    "x1_neg = neg[:, 0].flatten()\n",
    "x2_neg = neg[:, 1].flatten()\n",
    "\n",
    "plt.figure(figsize=(6,6))\n",
    "plt.plot(x1_pos,x2_pos,'bo', markersize=3)\n",
    "plt.plot(x1_neg,x2_neg,'rx', markersize=3)\n",
    "\n",
    "\n",
    "xh = np.arange(x1_pos.min(), x2_pos.max() + 1)\n",
    "w_x = float(get_weights()[0])\n",
    "w_y = float(get_weights()[1])\n",
    "# Rearranged the decision line w.x - b = 0 for y\n",
    "yh = (-xh * w_x + b) / w_y\n",
    "plt.plot(xh,yh,'g--', linewidth=3)\n",
    "\n",
    "plt.suptitle('Classifier with Test Data')\n",
    "plt.legend(['Class = 1', 'Class = -1', 'Classifier'],bbox_to_anchor=(1.04,0.5), loc=\"center left\")\n",
    "plt.show()"
   ]
  },
  {
   "attachments": {
    "expected.png": {
     "image/png": "[encoded data removed]"
    }
   },
   "cell_type": "markdown",
   "metadata": {},
   "source": [
    "# Analysis\n",
    "\n",
    "The algorithm is not working as expected. If the algorithm is left to run through many 'epochs' or times to update alpha, then one alpha is always updated and approaches infinity.  The calculations for b seem to also be incorrect.  Both of these result in the classifier being negative and below the data set, incorrectly classifying about half of the data.\n",
    "\n",
    "Below is an image of the classifier using the initial langrange multipliers/alpha values before selected alpha values are updated. This classifier is close to what is expected, although the margin should be larger.\n",
    "\n",
    "![expected.png](attachment:expected.png)"
   ]
  },
  {
   "cell_type": "code",
   "execution_count": null,
   "metadata": {},
   "outputs": [],
   "source": []
  }
 ],
 "metadata": {
  "kernelspec": {
   "display_name": "Python 3",
   "language": "python",
   "name": "python3"
  },
  "language_info": {
   "codemirror_mode": {
    "name": "ipython",
    "version": 3
   },
   "file_extension": ".py",
   "mimetype": "text/x-python",
   "name": "python",
   "nbconvert_exporter": "python",
   "pygments_lexer": "ipython3",
   "version": "3.8.8"
  }
 },
 "nbformat": 4,
 "nbformat_minor": 2
}
