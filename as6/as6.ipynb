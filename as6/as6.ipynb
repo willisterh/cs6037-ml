{
 "cells": [
  {
   "cell_type": "code",
   "execution_count": 1,
   "metadata": {},
   "outputs": [],
   "source": [
    "# Will Hollingsworth, Colton Murray, Alexander Shiveley"
   ]
  },
  {
   "cell_type": "code",
   "execution_count": 1,
   "metadata": {},
   "outputs": [],
   "source": [
    "import numpy as np\n",
    "import matplotlib.pyplot as plt\n",
    "import sympy as sp"
   ]
  },
  {
   "cell_type": "markdown",
   "metadata": {},
   "source": [
    "# Q1"
   ]
  },
  {
   "cell_type": "markdown",
   "metadata": {},
   "source": [
    "By using the same method in the notes to expand the kernel function for some n and d, m can be found.  After expanding, and simplifying, m = number of terms in the polynomial.\n",
    "\n",
    "c is set to 1.\n",
    "\n",
    "To avoid tedious calculations, the expansions were done using sympy."
   ]
  },
  {
   "cell_type": "code",
   "execution_count": 19,
   "metadata": {},
   "outputs": [
    {
     "name": "stdout",
     "output_type": "stream",
     "text": [
      "n: 1   d: 1   m: 2\n",
      "n: 1   d: 2   m: 3\n",
      "n: 1   d: 3   m: 4\n",
      "n: 1   d: 4   m: 5\n",
      "n: 1   d: 5   m: 6\n",
      "n: 2   d: 1   m: 3\n",
      "n: 2   d: 2   m: 6\n",
      "n: 2   d: 3   m: 10\n",
      "n: 2   d: 4   m: 15\n",
      "n: 2   d: 5   m: 21\n",
      "n: 3   d: 1   m: 4\n",
      "n: 3   d: 2   m: 10\n",
      "n: 3   d: 3   m: 20\n",
      "n: 3   d: 4   m: 35\n",
      "n: 3   d: 5   m: 56\n",
      "n: 4   d: 1   m: 5\n",
      "n: 4   d: 2   m: 15\n",
      "n: 4   d: 3   m: 35\n",
      "n: 4   d: 4   m: 70\n",
      "n: 4   d: 5   m: 126\n"
     ]
    }
   ],
   "source": [
    "def get_m(n, d):\n",
    "    \"\"\"\n",
    "    Expands and counts the terms in the polynomial kernel function for some n and d, where c = 1\n",
    "    \"\"\"\n",
    "    # Supports n up to 4\n",
    "    if n == 1:\n",
    "        x1, z1 = sp.symbols('x1 z1')\n",
    "        result = sp.expand((x1*z1+1)**d)\n",
    "    elif n == 2:\n",
    "        x1, z1, x2, z2 = sp.symbols('x1 z1 x2 z2')\n",
    "        result = sp.expand((x1*z1+x2*z2+1)**d)\n",
    "    elif n == 3:\n",
    "        x1, z1, x2, z2, x3, z3 = sp.symbols('x1 z1 x2 z2 x3 z3')\n",
    "        result = sp.expand((x1*z1+x2*z2+x3*z3+1)**d)\n",
    "    elif n == 4:\n",
    "        x1, z1, x2, z2, x3, z3, x4, z4 = sp.symbols('x1 z1 x2 z2 x3 z3 x4 z4')\n",
    "        result = sp.expand((x1*z1+x2*z2+x3*z3+x4*z4+1)**d)    \n",
    "    return str(result).count('+') + 1\n",
    "\n",
    "# Find m for n = [1, 4], d = [1, 5]\n",
    "for n in range(1, 5):\n",
    "    for d in range(1, 6):\n",
    "        print('n:', n, '  d:', d, '  m:', get_m(n, d))    "
   ]
  },
  {
   "cell_type": "markdown",
   "metadata": {},
   "source": [
    "The most noticable pattern is that for some $n_1$, $d_1$, $n_2$, $d_2$ where $n_2 = d_1$ and $d_2 = n_1$, $m_1 = m_2$.\n",
    "For example for $n = 2$, $d = 3$ and $n = 3$, $d = 2$, results in $m = 10$ for both cases.\n",
    "\n",
    "This suggests there is some term in the relation like $n + d$ or $n * d$ involved for symmetry.\n",
    "\n",
    "Another pattern is that for larger $n$ and $d$, $m$ grows large quickly. This suggests operations like exponents or factorials may be involved.\n",
    "\n",
    "Using the above patterns, the final equation below was found to relate $n$, $d$, and $m$:\n",
    "\n",
    "$$m = \\frac{(n + d)!}{n! d!}$$"
   ]
  },
  {
   "cell_type": "markdown",
   "metadata": {},
   "source": [
    "# Q2 TODO (Copied over csv reading from assignment 5 for now)"
   ]
  },
  {
   "cell_type": "markdown",
   "metadata": {},
   "source": [
    "# Getting the data into Python"
   ]
  },
  {
   "cell_type": "code",
   "execution_count": 3,
   "metadata": {},
   "outputs": [
    {
     "data": {
      "text/plain": [
       "array([[  3.6216 ,   8.6661 ,  -2.8073 ,  -0.44699,   0.     ],\n",
       "       [  4.5459 ,   8.1674 ,  -2.4586 ,  -1.4621 ,   0.     ],\n",
       "       [  3.866  ,  -2.6383 ,   1.9242 ,   0.10645,   0.     ],\n",
       "       ...,\n",
       "       [ -3.7503 , -13.4586 ,  17.5932 ,  -2.7771 ,   1.     ],\n",
       "       [ -3.5637 ,  -8.3827 ,  12.393  ,  -1.2823 ,   1.     ],\n",
       "       [ -2.5419 ,  -0.65804,   2.6842 ,   1.1952 ,   1.     ]])"
      ]
     },
     "execution_count": 3,
     "metadata": {},
     "output_type": "execute_result"
    }
   ],
   "source": [
    "# Load the csv as a numpy array of strings, \n",
    "# because it includes the column headers\n",
    "raw_data = np.loadtxt('data_banknote_authentication.txt', delimiter=',', dtype=str)\n",
    "\n",
    "# Convert everything into floats!\n",
    "clean_data = np.array(raw_data, dtype=float)\n",
    "\n",
    "clean_data"
   ]
  },
  {
   "cell_type": "code",
   "execution_count": 4,
   "metadata": {},
   "outputs": [],
   "source": [
    "def get_sets(data, split):\n",
    "    \"\"\"\n",
    "    Convenience function that randomly selects a training and test set from the input data.\n",
    "    \n",
    "    :param data: (ndarray) the data you want to split\n",
    "    :param split: (float array) the percentages of the data you want to be TRAINING, VALIDATION, and TESTING data\n",
    "    \n",
    "    :returns: (tuple) a tuple where the first element is the training set, and the second element is the test set\n",
    "    \"\"\"\n",
    "    # Randomly shuffle the order from a copy of the data\n",
    "    shuffled = data.copy()\n",
    "    np.random.shuffle(shuffled)\n",
    "\n",
    "    row_count = data.shape[0]\n",
    "\n",
    "    # calc the number of samples, assumes the input samples are seperated by row\n",
    "    training_count = round(row_count * split[0])\n",
    "    \n",
    "    training_set = shuffled[:training_count]\n",
    "    remaining_set = shuffled[training_count:]\n",
    "    \n",
    "    # calc the number of samples, assumes the input samples are seperated by row\n",
    "    training_count = round(row_count * split[1] / (split[1] + split[2]))\n",
    "    \n",
    "    validation_set = remaining_set[:training_count]\n",
    "    test_set = remaining_set[training_count:]\n",
    "    \n",
    "    return training_set, validation_set, test_set"
   ]
  },
  {
   "cell_type": "code",
   "execution_count": 5,
   "metadata": {},
   "outputs": [],
   "source": [
    "training, validation, test = get_sets(clean_data, [1/3, 1/3, 1/3])"
   ]
  },
  {
   "cell_type": "code",
   "execution_count": null,
   "metadata": {},
   "outputs": [],
   "source": []
  }
 ],
 "metadata": {
  "kernelspec": {
   "display_name": "Python 3",
   "language": "python",
   "name": "python3"
  },
  "language_info": {
   "codemirror_mode": {
    "name": "ipython",
    "version": 3
   },
   "file_extension": ".py",
   "mimetype": "text/x-python",
   "name": "python",
   "nbconvert_exporter": "python",
   "pygments_lexer": "ipython3",
   "version": "3.8.8"
  }
 },
 "nbformat": 4,
 "nbformat_minor": 2
}
