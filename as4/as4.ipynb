{
 "cells": [
  {
   "cell_type": "code",
   "execution_count": 1,
   "metadata": {},
   "outputs": [],
   "source": [
    "# Will Hollingsworth, Colton Murray, Alexander Shiveley"
   ]
  },
  {
   "cell_type": "code",
   "execution_count": 2,
   "metadata": {},
   "outputs": [],
   "source": [
    "import numpy as np\n",
    "import matplotlib.pyplot as plt"
   ]
  },
  {
   "cell_type": "markdown",
   "metadata": {},
   "source": [
    "# Generating Datasets"
   ]
  },
  {
   "cell_type": "code",
   "execution_count": 3,
   "metadata": {},
   "outputs": [],
   "source": [
    "decision_lambda = lambda x1, x2: 1 if (x1 + (3 * x2) - 2) > 0 else -1\n",
    "\n",
    "def gen_data():\n",
    "    \"\"\"\n",
    "    Generates random data points and classifies them.\n",
    "    \"\"\"\n",
    "    data = np.random.randint(low=-40, high=40, size=(100,2))\n",
    "    classification = np.array([[decision_lambda(d[0], d[1])] for d in data])\n",
    "\n",
    "    return np.hstack((data, classification))"
   ]
  },
  {
   "cell_type": "code",
   "execution_count": 4,
   "metadata": {},
   "outputs": [],
   "source": [
    "def get_sets(data, split):\n",
    "    \"\"\"\n",
    "    Convenience function that randomly selects a training and test set from the input data.\n",
    "    \n",
    "    :param data: (ndarray) the data you want to split\n",
    "    :param split: (float) the percentage of the data you want to be TRAINING data\n",
    "    \n",
    "    :returns: (tuple) a tuple where the first element is the training set, and the second element is the test set\n",
    "    \"\"\"\n",
    "    # Randomly shuffle the order from a copy of the data\n",
    "    shuffled = data.copy()\n",
    "    np.random.shuffle(shuffled)\n",
    "\n",
    "    row_count = data.shape[0]\n",
    "\n",
    "    # calc the number of samples, assumes the input samples are seperated by row\n",
    "    training_count = round(row_count * split)\n",
    "    \n",
    "    training_set = shuffled[:training_count]\n",
    "    test_set = shuffled[training_count:]\n",
    "    \n",
    "    return training_set, test_set"
   ]
  },
  {
   "cell_type": "code",
   "execution_count": 5,
   "metadata": {},
   "outputs": [],
   "source": [
    "def split_pos_neg(data):\n",
    "    \"\"\"\n",
    "    Returns two sets of positive, then negative examples (1's then -1's from the output column)\n",
    "    \"\"\"\n",
    "    return data[data[:, -1]==1, :-1], data[data[:, -1]==-1, :-1]"
   ]
  },
  {
   "cell_type": "code",
   "execution_count": 6,
   "metadata": {},
   "outputs": [],
   "source": [
    "# Find a balanced dataset of positive and negative samples\n",
    "def get_balanced_data():\n",
    "    ratio = -1\n",
    "    while ratio == -1 or abs(1 - ratio) > 0.1:\n",
    "        data = gen_data()\n",
    "        pos, neg = split_pos_neg(data)\n",
    "\n",
    "        # Check ratio of positive and negative samples\n",
    "        ratio = len(pos) / len(neg)\n",
    "    \n",
    "    return data"
   ]
  },
  {
   "cell_type": "markdown",
   "metadata": {},
   "source": [
    "# Perceptron (2 Input Linear Unit)"
   ]
  },
  {
   "cell_type": "code",
   "execution_count": 7,
   "metadata": {},
   "outputs": [],
   "source": [
    "# To be used later when measuring performance\n",
    "weight_updates = 0\n",
    "\n",
    "class linear_unit():\n",
    "    def __init__(self, num_inputs):\n",
    "        self.weights = np.random.rand(num_inputs + 1)\n",
    "        \n",
    "    def output(self, data_point):\n",
    "        \"\"\"\n",
    "        Returns the linear combination of the input and this unit's weights\n",
    "        \"\"\"\n",
    "        # total = w0*1 + w1x1 + w2x2 + ...\n",
    "        data_with_bias = np.hstack((np.array([1]), data_point[:-1]))\n",
    "        t = data_with_bias * self.weights\n",
    "        t = np.sum(t)\n",
    "        \n",
    "        return t\n",
    "        \n",
    "    def delta_rule(self, data, learning_rate, epochs):\n",
    "        \"\"\"\n",
    "        Performs the delta rule training for a given number of epochs using gradient descent\n",
    "        \"\"\"\n",
    "        global weight_updates\n",
    "        \n",
    "        # From NN_MitchelChapter4-1.pdf on canvas          \n",
    "        for ep in range(epochs): \n",
    "            delta_w = np.zeros(self.weights.shape[0])\n",
    "            for d in data:\n",
    "                d_with_bias = np.hstack((np.array([1]), d[:-1]))\n",
    "                o = 1 if self.output(d) > 0 else -1\n",
    "                delta_w = delta_w + learning_rate * (d[2] - o) * d_with_bias     \n",
    "            self.weights = self.weights + delta_w\n",
    "            \n",
    "            if np.sum(delta_w) != 0:\n",
    "                weight_updates += 1\n",
    "                \n",
    "        return weight_updates\n",
    "        \n",
    "    def delta_rule_stochastic(self, data, learning_rate, epochs):\n",
    "        \"\"\"\n",
    "        Performs the delta rule training for a given number of epochs using stochastic gradient descent\n",
    "        \"\"\"\n",
    "        global weight_updates\n",
    "        \n",
    "        # From NN_MitchelChapter4-1.pdf on canvas          \n",
    "        for ep in range(epochs): \n",
    "            for d in data:\n",
    "                d_with_bias = np.hstack((np.array([1]), d[:-1]))\n",
    "                o = 1 if self.output(d) > 0 else -1\n",
    "                temp_weights = self.weights + learning_rate * (d[2] - o) * d_with_bias  \n",
    "                \n",
    "                if (temp_weights != self.weights).any():\n",
    "                    weight_updates += 1\n",
    "                    \n",
    "                self.weights = temp_weights\n",
    "                \n",
    "        return weight_updates\n",
    "            \n",
    "        \n",
    "    def error(self, data):\n",
    "        \"\"\"\n",
    "        Returns the sum squared error of the data using this unit's weights\n",
    "        \"\"\"\n",
    "        sum = 0\n",
    "        for d in data:\n",
    "            o = 1 if self.output(d) > 0 else -1\n",
    "            sum = sum + (d[2] - o)**2\n",
    "        return sum"
   ]
  },
  {
   "cell_type": "code",
   "execution_count": 8,
   "metadata": {},
   "outputs": [],
   "source": [
    "p = linear_unit(2)"
   ]
  },
  {
   "cell_type": "code",
   "execution_count": 9,
   "metadata": {},
   "outputs": [
    {
     "name": "stdout",
     "output_type": "stream",
     "text": [
      "[-27 -28  -1]\n",
      "[0.20981765 0.89970191 0.30475992]\n",
      "-32.615411488353665\n",
      "[  0.60981765  66.89970191 197.70475992]\n",
      "-7341.415411488353\n"
     ]
    }
   ],
   "source": [
    "data = get_balanced_data()\n",
    "print(data[0])\n",
    "print(p.weights)\n",
    "print(p.output(data[0]))\n",
    "\n",
    "# Train perceptron using gradient descent\n",
    "p.delta_rule(data, 0.1, 50)\n",
    "print(p.weights)\n",
    "print(p.output(data[0]))"
   ]
  },
  {
   "cell_type": "code",
   "execution_count": 10,
   "metadata": {},
   "outputs": [
    {
     "name": "stdout",
     "output_type": "stream",
     "text": [
      "[-27 -28  -1]\n",
      "[0.73169831 0.21120879 0.62864974]\n",
      "-22.573131537928795\n",
      "[-29.86830169  12.61120879  39.62864974]\n",
      "-1479.9731315379308\n"
     ]
    }
   ],
   "source": [
    "p2 = linear_unit(2)\n",
    "data2 = get_balanced_data()\n",
    "\n",
    "print(data[0])\n",
    "print(p2.weights)\n",
    "print(p2.output(data[0]))\n",
    "\n",
    "# Train perceptron using stochastic gradient descent\n",
    "p2.delta_rule_stochastic(data2, 0.1, 50)\n",
    "print(p2.weights)\n",
    "print(p2.output(data[0]))"
   ]
  },
  {
   "cell_type": "code",
   "execution_count": 11,
   "metadata": {},
   "outputs": [],
   "source": [
    "# Alex - Weights make sense now where 1st is negative and others are positive. (actual is [-2, 1, 3])"
   ]
  },
  {
   "cell_type": "code",
   "execution_count": 12,
   "metadata": {},
   "outputs": [
    {
     "name": "stdout",
     "output_type": "stream",
     "text": [
      "0\n",
      "4\n"
     ]
    }
   ],
   "source": [
    "print(p.error(data))\n",
    "print(p2.error(data2))"
   ]
  },
  {
   "cell_type": "code",
   "execution_count": 13,
   "metadata": {},
   "outputs": [],
   "source": [
    "def plot_error_over_epochs(epochs):   \n",
    "    \"\"\"\n",
    "    Plot the training error for up to some number of epochs\n",
    "    \"\"\" \n",
    "    unit = linear_unit(2)\n",
    "    \n",
    "    x = np.arange(epochs)\n",
    "    y = []\n",
    "    data = get_balanced_data()\n",
    "    for i in range(epochs):\n",
    "        unit.delta_rule(data, 0.1, 1)\n",
    "        y.append(unit.error(data))\n",
    "        \n",
    "    plt.plot(x, y, '--r')\n",
    "    plt.xlabel('# of Epochs')\n",
    "    plt.ylabel('Error')\n",
    "    plt.title('Error vs Training Epochs')\n",
    "    plt.show()\n",
    "\n",
    "def plot_decision_surface():\n",
    "    \"\"\"\n",
    "    Plot the decision surface for 5, 10, 50, and 100 epochs\n",
    "    \"\"\" \n",
    "    fig, axs = plt.subplots(2, 2, sharex=True, sharey=True)\n",
    "    \n",
    "    counter = 0\n",
    "    for row in axs:\n",
    "        for ax in row:\n",
    "            # Get data\n",
    "            data = get_balanced_data()\n",
    "            pos, neg = split_pos_neg(data)\n",
    "            \n",
    "            # Set axis limits\n",
    "            ax.set_xlim(-40, 40)\n",
    "            ax.set_ylim(-40, 40)\n",
    "            \n",
    "            # Train linear unit\n",
    "            unit = linear_unit(2)\n",
    "            if counter == 0:\n",
    "                unit.delta_rule(data, .1, 5)\n",
    "                ax.set_title('5 Epochs')\n",
    "            elif counter == 1:\n",
    "                unit.delta_rule(data, .1, 10)\n",
    "                ax.set_title('10 Epochs')\n",
    "            elif counter == 2:\n",
    "                unit.delta_rule(data, .1, 50)\n",
    "                ax.set_title('50 Epochs')\n",
    "            else:\n",
    "                unit.delta_rule(data, .1, 100)\n",
    "                ax.set_title('100 Epochs')\n",
    "            \n",
    "            # Plot decision boundary\n",
    "            x = np.arange(-40, 40)\n",
    "            yf = lambda x: ((unit.weights[1] / unit.weights[2]) * -x) - unit.weights[0]\n",
    "            y = [yf(d) for d in x]\n",
    "            ax.plot(x, y, color='orange')\n",
    "            ax.fill_between(x, y, 40, color='lightcoral')\n",
    "            ax.fill_between(x, y, -40, color='lightblue')\n",
    "            \n",
    "            # Overlay training data\n",
    "            ax.scatter(pos[:, 0], pos[:, 1], color='red')\n",
    "            ax.scatter(neg[:, 0], neg[:, 1], color='blue')\n",
    "            \n",
    "            counter += 1\n",
    "    \n",
    "    plt.show()\n",
    "    \n",
    "def plot_error_training_rates():\n",
    "    \n",
    "    fig, axs = plt.subplots(2, 2, sharex=True, sharey=True)\n",
    "    x = np.arange(50)\n",
    "    \n",
    "    counter = 0\n",
    "    for row in axs:\n",
    "        for ax in row:\n",
    "    \n",
    "            if counter == 0:\n",
    "                lr = 0.1\n",
    "                ax.set_title('Learning Rate = 0.1')\n",
    "            elif counter == 1:\n",
    "                lr = 0.01\n",
    "                ax.set_title('Learning Rate = 0.01')\n",
    "            elif counter == 2:\n",
    "                lr = 0.001\n",
    "                ax.set_title('Learning Rate = 0.001')\n",
    "            elif counter == 3:\n",
    "                lr = 0.0001\n",
    "                ax.set_title('Learning Rate = 0.0001')\n",
    "    \n",
    "            unit = linear_unit(2)\n",
    "            y = []\n",
    "            data = get_balanced_data()\n",
    "            for i in range(50):\n",
    "                unit.delta_rule(data, lr, 1)\n",
    "                y.append(unit.error(data))\n",
    "        \n",
    "            ax.plot(x, y, '--r')\n",
    "            counter += 1\n",
    "    \n",
    "    #plt.xlabel('# of Epochs')\n",
    "    #plt.ylabel('Error')\n",
    "    plt.show()"
   ]
  },
  {
   "cell_type": "code",
   "execution_count": 14,
   "metadata": {},
   "outputs": [
    {
     "data": {
      "image/png": "[encoded data removed]",
      "text/plain": [
       "<Figure size 432x288 with 1 Axes>"
      ]
     },
     "metadata": {
      "needs_background": "light"
     },
     "output_type": "display_data"
    }
   ],
   "source": [
    "plot_error_over_epochs(25)"
   ]
  },
  {
   "cell_type": "code",
   "execution_count": 15,
   "metadata": {},
   "outputs": [
    {
     "data": {
      "image/png": "[encoded data removed]",
      "text/plain": [
       "<Figure size 432x288 with 4 Axes>"
      ]
     },
     "metadata": {
      "needs_background": "light"
     },
     "output_type": "display_data"
    }
   ],
   "source": [
    "plot_decision_surface()"
   ]
  },
  {
   "cell_type": "code",
   "execution_count": 16,
   "metadata": {},
   "outputs": [],
   "source": [
    "# Will -Not sure if we can scale these up or something. Also sometimes the 100 epochs one just freaks out and has crazy high error."
   ]
  },
  {
   "cell_type": "code",
   "execution_count": 17,
   "metadata": {},
   "outputs": [
    {
     "data": {
      "image/png": "[encoded data removed]",
      "text/plain": [
       "<Figure size 432x288 with 4 Axes>"
      ]
     },
     "metadata": {
      "needs_background": "light"
     },
     "output_type": "display_data"
    }
   ],
   "source": [
    "plot_error_training_rates()"
   ]
  },
  {
   "cell_type": "code",
   "execution_count": 18,
   "metadata": {},
   "outputs": [],
   "source": [
    "# TODO: analysis for learning rate\n",
    "# Looks like 0.001 is good?"
   ]
  },
  {
   "cell_type": "code",
   "execution_count": 19,
   "metadata": {},
   "outputs": [
    {
     "name": "stdout",
     "output_type": "stream",
     "text": [
      "Epochs: 50\n",
      "Learning Rate: 0.001\n",
      "\n",
      "Batch Training:\n",
      "\tExecution Time: 0.12686490000000017\n",
      "\tNum of Weight Updates: 14\n",
      "\n",
      "Stochastic Training:\n",
      "\tExecution Time: 0.15222490000000022\n",
      "\tNum of Weight Updates: 122\n",
      "\n"
     ]
    }
   ],
   "source": [
    "import timeit\n",
    "\n",
    "weight_updates = 0\n",
    "\n",
    "data = get_balanced_data()\n",
    "\n",
    "# Train perceptron using batch gradient descent\n",
    "p = linear_unit(2)\n",
    "time = timeit.timeit(lambda: p.delta_rule(data, 0.001, 50), number=1)\n",
    "\n",
    "print('Epochs: 50')\n",
    "print('Learning Rate: 0.001\\n')\n",
    "\n",
    "print('Batch Training:')\n",
    "print(f'\\tExecution Time: {time}')\n",
    "print(f'\\tNum of Weight Updates: {weight_updates}\\n')\n",
    "\n",
    "weight_updates = 0\n",
    "\n",
    "# Train perceptron using stochastic gradient descent\n",
    "p = linear_unit(2)\n",
    "time = timeit.timeit(lambda: p.delta_rule_stochastic(data, 0.001, 50), number=1)\n",
    "\n",
    "print('Stochastic Training:')\n",
    "print(f'\\tExecution Time: {time}')\n",
    "print(f'\\tNum of Weight Updates: {weight_updates}\\n')"
   ]
  },
  {
   "cell_type": "markdown",
   "metadata": {},
   "source": [
    "## Decaying Adaptive Rate"
   ]
  },
  {
   "cell_type": "code",
   "execution_count": 20,
   "metadata": {},
   "outputs": [],
   "source": [
    "def learning_rate_decay(initial_learning_rate, epoch, decay_rate):\n",
    "    return decay_rate**epoch * initial_learning_rate\n",
    "\n",
    "def plot_error_decay(epochs):   \n",
    "    \"\"\"\n",
    "    Plot the training error for up to some number of epochs of constant vs decay\n",
    "    \"\"\" \n",
    "    data = get_balanced_data()\n",
    "    unit = linear_unit(2)\n",
    "    \n",
    "    x = np.arange(epochs)\n",
    "    y = []\n",
    "    for i in range(epochs):\n",
    "        unit.delta_rule(data, 0.001, 1)\n",
    "        y.append(unit.error(data))        \n",
    "    plt.plot(x, y, '--r')\n",
    "    \n",
    "    unit2 = linear_unit(2)\n",
    "    \n",
    "    x2 = np.arange(epochs)\n",
    "    y2 = []\n",
    "    for i in range(epochs):\n",
    "        learning_rate = learning_rate_decay(0.1, i, 0.8)\n",
    "        unit2.delta_rule(data, learning_rate, 1)\n",
    "        y2.append(unit2.error(data))\n",
    "    plt.plot(x2, y2, '--b')\n",
    "    \n",
    "    plt.xlabel('# of Epochs')\n",
    "    plt.ylabel('Error')\n",
    "    plt.legend(['Constant Rate', 'Decaying Rate'])\n",
    "    plt.title('Error vs Training Epochs')\n",
    "    plt.show()"
   ]
  },
  {
   "cell_type": "code",
   "execution_count": 21,
   "metadata": {},
   "outputs": [
    {
     "data": {
      "image/png": "[encoded data removed]",
      "text/plain": [
       "<Figure size 432x288 with 1 Axes>"
      ]
     },
     "metadata": {
      "needs_background": "light"
     },
     "output_type": "display_data"
    }
   ],
   "source": [
    "plot_error_decay(25)"
   ]
  },
  {
   "cell_type": "code",
   "execution_count": 22,
   "metadata": {},
   "outputs": [],
   "source": [
    "# Overall decay worse at first and then is the same or slightly better than a constant rate\n",
    "# TODO analysis"
   ]
  },
  {
   "cell_type": "markdown",
   "metadata": {},
   "source": [
    "## Adaptive Learning Rate"
   ]
  },
  {
   "cell_type": "code",
   "execution_count": 23,
   "metadata": {},
   "outputs": [],
   "source": [
    "def learning_rate_adaptive(learning_rate, error_diff, t, d, D):\n",
    "    \"\"\"\n",
    "    error_diff: new error - previous error\n",
    "    t: threshold\n",
    "    d: multiplier if above threshold\n",
    "    D: multiplier if less than threshold\n",
    "    return new learning rate, keep new weights\n",
    "    \"\"\"     \n",
    "    if error_diff >= t:\n",
    "        return learning_rate * d, False\n",
    "    else:\n",
    "        return learning_rate * D, True\n",
    "\n",
    "def plot_error_adaptive(epochs):   \n",
    "    \"\"\"\n",
    "    Plot the training error for up to some number of epochs of constant vs adaptive\n",
    "    \"\"\" \n",
    "    data = get_balanced_data()\n",
    "    unit = linear_unit(2)\n",
    "    \n",
    "    x = np.arange(epochs)\n",
    "    y = []\n",
    "    for i in range(epochs):\n",
    "        unit.delta_rule(data, 0.001, 1)\n",
    "        y.append(unit.error(data))        \n",
    "    plt.plot(x, y, '--r')\n",
    "    \n",
    "    unit2 = linear_unit(2)\n",
    "    \n",
    "    x2 = np.arange(epochs)\n",
    "    y2 = []\n",
    "    prev_error = unit2.error(data)\n",
    "    learning_rate = 0.1\n",
    "    for i in range(epochs):\n",
    "        prev_weights = np.copy(unit2.weights)\n",
    "        unit2.delta_rule(data, learning_rate, 1)        \n",
    "        learning_rate, keep_weights = learning_rate_adaptive(learning_rate, unit2.error(data) - prev_error, 0.2, 0.9, 1.1)\n",
    "        prev_error = unit2.error(data)\n",
    "        if not keep_weights:\n",
    "            unit2.weights = prev_weights\n",
    "        y2.append(unit2.error(data))\n",
    "    plt.plot(x2, y2, '--b')\n",
    "    \n",
    "    plt.xlabel('# of Epochs')\n",
    "    plt.ylabel('Error')\n",
    "    plt.legend(['Constant Rate', 'Decaying Rate'])\n",
    "    plt.title('Error vs Training Epochs')\n",
    "    plt.show()"
   ]
  },
  {
   "cell_type": "code",
   "execution_count": 24,
   "metadata": {},
   "outputs": [
    {
     "data": {
      "image/png": "[encoded data removed]",
      "text/plain": [
       "<Figure size 432x288 with 1 Axes>"
      ]
     },
     "metadata": {
      "needs_background": "light"
     },
     "output_type": "display_data"
    }
   ],
   "source": [
    "plot_error_adaptive(25)"
   ]
  },
  {
   "cell_type": "code",
   "execution_count": 25,
   "metadata": {},
   "outputs": [],
   "source": [
    "# Overall adaptive increases in error and then is the same or slightly better than a constant rate\n",
    "# TODO analysis"
   ]
  },
  {
   "cell_type": "code",
   "execution_count": null,
   "metadata": {},
   "outputs": [],
   "source": []
  }
 ],
 "metadata": {
  "kernelspec": {
   "display_name": "Python 3",
   "language": "python",
   "name": "python3"
  },
  "language_info": {
   "codemirror_mode": {
    "name": "ipython",
    "version": 3
   },
   "file_extension": ".py",
   "mimetype": "text/x-python",
   "name": "python",
   "nbconvert_exporter": "python",
   "pygments_lexer": "ipython3",
   "version": "3.8.8"
  }
 },
 "nbformat": 4,
 "nbformat_minor": 2
}
